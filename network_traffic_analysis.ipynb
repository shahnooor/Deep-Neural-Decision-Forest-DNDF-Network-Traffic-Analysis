{
  "cells": [
    {
      "cell_type": "code",
      "execution_count": 2,
      "metadata": {
        "colab": {
          "base_uri": "https://localhost:8080/"
        },
        "id": "6DUegDp0wjLr",
        "outputId": "65c2d78d-87b0-4539-dbdc-09220bf41111"
      },
      "outputs": [
        {
          "output_type": "stream",
          "name": "stdout",
          "text": [
            "Mounted at /content/drive\n"
          ]
        }
      ],
      "source": [
        "from google.colab import drive\n",
        "drive.mount('/content/drive')"
      ]
    },
    {
      "cell_type": "code",
      "execution_count": 3,
      "metadata": {
        "id": "WM2szyL_U8rD"
      },
      "outputs": [],
      "source": [
        "import numpy as np\n",
        "import pandas as pd \n",
        "import matplotlib\n",
        "import seaborn as sns\n",
        "import sklearn\n",
        "import imblearn\n",
        "import matplotlib.pyplot as plt\n",
        "import time\n",
        "import sklearn.metrics as m\n",
        "import numpy as np\n",
        "from sklearn.tree import DecisionTreeClassifier\n",
        "from sklearn.ensemble import BaggingClassifier\n",
        "from sklearn.model_selection import train_test_split\n",
        "from sklearn.metrics import accuracy_score\n",
        "from tensorflow.keras.models import Sequential\n",
        "from tensorflow.keras.layers import Dense\n",
        "from tensorflow.keras.utils import to_categorical\n",
        "from sklearn.preprocessing import LabelEncoder\n",
        "from sklearn.model_selection import train_test_split\n",
        "from sklearn.decomposition import PCA\n",
        "from mpl_toolkits.mplot3d import Axes3D\n",
        "\n"
      ]
    },
    {
      "cell_type": "code",
      "execution_count": 4,
      "metadata": {
        "id": "J0fr46eyWw-F"
      },
      "outputs": [],
      "source": [
        "df=pd.read_csv(\"/content/drive/MyDrive/network_traffic_analysis_dataset.csv\")\n"
      ]
    },
    {
      "cell_type": "code",
      "execution_count": 5,
      "metadata": {
        "colab": {
          "base_uri": "https://localhost:8080/",
          "height": 352
        },
        "id": "Soki5MrrcIZy",
        "outputId": "5a86ea3c-9cf3-4034-870e-73188dc76e1c"
      },
      "outputs": [
        {
          "output_type": "execute_result",
          "data": {
            "text/plain": [
              "    Destination Port   Flow Duration   Total Fwd Packets  \\\n",
              "0              54865               3                   2   \n",
              "1              55054             109                   1   \n",
              "2              55055              52                   1   \n",
              "3              46236              34                   1   \n",
              "4              54863               3                   2   \n",
              "\n",
              "    Total Backward Packets  Total Length of Fwd Packets  \\\n",
              "0                        0                           12   \n",
              "1                        1                            6   \n",
              "2                        1                            6   \n",
              "3                        1                            6   \n",
              "4                        0                           12   \n",
              "\n",
              "    Total Length of Bwd Packets   Fwd Packet Length Max  \\\n",
              "0                             0                       6   \n",
              "1                             6                       6   \n",
              "2                             6                       6   \n",
              "3                             6                       6   \n",
              "4                             0                       6   \n",
              "\n",
              "    Fwd Packet Length Min   Fwd Packet Length Mean   Fwd Packet Length Std  \\\n",
              "0                       6                      6.0                     0.0   \n",
              "1                       6                      6.0                     0.0   \n",
              "2                       6                      6.0                     0.0   \n",
              "3                       6                      6.0                     0.0   \n",
              "4                       6                      6.0                     0.0   \n",
              "\n",
              "   ...   min_seg_size_forward  Active Mean   Active Std   Active Max  \\\n",
              "0  ...                   20.0          0.0          0.0          0.0   \n",
              "1  ...                   20.0          0.0          0.0          0.0   \n",
              "2  ...                   20.0          0.0          0.0          0.0   \n",
              "3  ...                   20.0          0.0          0.0          0.0   \n",
              "4  ...                   20.0          0.0          0.0          0.0   \n",
              "\n",
              "    Active Min  Idle Mean   Idle Std   Idle Max   Idle Min   Label  \n",
              "0          0.0        0.0        0.0        0.0        0.0  BENIGN  \n",
              "1          0.0        0.0        0.0        0.0        0.0  BENIGN  \n",
              "2          0.0        0.0        0.0        0.0        0.0  BENIGN  \n",
              "3          0.0        0.0        0.0        0.0        0.0  BENIGN  \n",
              "4          0.0        0.0        0.0        0.0        0.0  BENIGN  \n",
              "\n",
              "[5 rows x 79 columns]"
            ],
            "text/html": [
              "\n",
              "  <div id=\"df-96a8cf52-552b-4800-a5af-e261999e7953\">\n",
              "    <div class=\"colab-df-container\">\n",
              "      <div>\n",
              "<style scoped>\n",
              "    .dataframe tbody tr th:only-of-type {\n",
              "        vertical-align: middle;\n",
              "    }\n",
              "\n",
              "    .dataframe tbody tr th {\n",
              "        vertical-align: top;\n",
              "    }\n",
              "\n",
              "    .dataframe thead th {\n",
              "        text-align: right;\n",
              "    }\n",
              "</style>\n",
              "<table border=\"1\" class=\"dataframe\">\n",
              "  <thead>\n",
              "    <tr style=\"text-align: right;\">\n",
              "      <th></th>\n",
              "      <th>Destination Port</th>\n",
              "      <th>Flow Duration</th>\n",
              "      <th>Total Fwd Packets</th>\n",
              "      <th>Total Backward Packets</th>\n",
              "      <th>Total Length of Fwd Packets</th>\n",
              "      <th>Total Length of Bwd Packets</th>\n",
              "      <th>Fwd Packet Length Max</th>\n",
              "      <th>Fwd Packet Length Min</th>\n",
              "      <th>Fwd Packet Length Mean</th>\n",
              "      <th>Fwd Packet Length Std</th>\n",
              "      <th>...</th>\n",
              "      <th>min_seg_size_forward</th>\n",
              "      <th>Active Mean</th>\n",
              "      <th>Active Std</th>\n",
              "      <th>Active Max</th>\n",
              "      <th>Active Min</th>\n",
              "      <th>Idle Mean</th>\n",
              "      <th>Idle Std</th>\n",
              "      <th>Idle Max</th>\n",
              "      <th>Idle Min</th>\n",
              "      <th>Label</th>\n",
              "    </tr>\n",
              "  </thead>\n",
              "  <tbody>\n",
              "    <tr>\n",
              "      <th>0</th>\n",
              "      <td>54865</td>\n",
              "      <td>3</td>\n",
              "      <td>2</td>\n",
              "      <td>0</td>\n",
              "      <td>12</td>\n",
              "      <td>0</td>\n",
              "      <td>6</td>\n",
              "      <td>6</td>\n",
              "      <td>6.0</td>\n",
              "      <td>0.0</td>\n",
              "      <td>...</td>\n",
              "      <td>20.0</td>\n",
              "      <td>0.0</td>\n",
              "      <td>0.0</td>\n",
              "      <td>0.0</td>\n",
              "      <td>0.0</td>\n",
              "      <td>0.0</td>\n",
              "      <td>0.0</td>\n",
              "      <td>0.0</td>\n",
              "      <td>0.0</td>\n",
              "      <td>BENIGN</td>\n",
              "    </tr>\n",
              "    <tr>\n",
              "      <th>1</th>\n",
              "      <td>55054</td>\n",
              "      <td>109</td>\n",
              "      <td>1</td>\n",
              "      <td>1</td>\n",
              "      <td>6</td>\n",
              "      <td>6</td>\n",
              "      <td>6</td>\n",
              "      <td>6</td>\n",
              "      <td>6.0</td>\n",
              "      <td>0.0</td>\n",
              "      <td>...</td>\n",
              "      <td>20.0</td>\n",
              "      <td>0.0</td>\n",
              "      <td>0.0</td>\n",
              "      <td>0.0</td>\n",
              "      <td>0.0</td>\n",
              "      <td>0.0</td>\n",
              "      <td>0.0</td>\n",
              "      <td>0.0</td>\n",
              "      <td>0.0</td>\n",
              "      <td>BENIGN</td>\n",
              "    </tr>\n",
              "    <tr>\n",
              "      <th>2</th>\n",
              "      <td>55055</td>\n",
              "      <td>52</td>\n",
              "      <td>1</td>\n",
              "      <td>1</td>\n",
              "      <td>6</td>\n",
              "      <td>6</td>\n",
              "      <td>6</td>\n",
              "      <td>6</td>\n",
              "      <td>6.0</td>\n",
              "      <td>0.0</td>\n",
              "      <td>...</td>\n",
              "      <td>20.0</td>\n",
              "      <td>0.0</td>\n",
              "      <td>0.0</td>\n",
              "      <td>0.0</td>\n",
              "      <td>0.0</td>\n",
              "      <td>0.0</td>\n",
              "      <td>0.0</td>\n",
              "      <td>0.0</td>\n",
              "      <td>0.0</td>\n",
              "      <td>BENIGN</td>\n",
              "    </tr>\n",
              "    <tr>\n",
              "      <th>3</th>\n",
              "      <td>46236</td>\n",
              "      <td>34</td>\n",
              "      <td>1</td>\n",
              "      <td>1</td>\n",
              "      <td>6</td>\n",
              "      <td>6</td>\n",
              "      <td>6</td>\n",
              "      <td>6</td>\n",
              "      <td>6.0</td>\n",
              "      <td>0.0</td>\n",
              "      <td>...</td>\n",
              "      <td>20.0</td>\n",
              "      <td>0.0</td>\n",
              "      <td>0.0</td>\n",
              "      <td>0.0</td>\n",
              "      <td>0.0</td>\n",
              "      <td>0.0</td>\n",
              "      <td>0.0</td>\n",
              "      <td>0.0</td>\n",
              "      <td>0.0</td>\n",
              "      <td>BENIGN</td>\n",
              "    </tr>\n",
              "    <tr>\n",
              "      <th>4</th>\n",
              "      <td>54863</td>\n",
              "      <td>3</td>\n",
              "      <td>2</td>\n",
              "      <td>0</td>\n",
              "      <td>12</td>\n",
              "      <td>0</td>\n",
              "      <td>6</td>\n",
              "      <td>6</td>\n",
              "      <td>6.0</td>\n",
              "      <td>0.0</td>\n",
              "      <td>...</td>\n",
              "      <td>20.0</td>\n",
              "      <td>0.0</td>\n",
              "      <td>0.0</td>\n",
              "      <td>0.0</td>\n",
              "      <td>0.0</td>\n",
              "      <td>0.0</td>\n",
              "      <td>0.0</td>\n",
              "      <td>0.0</td>\n",
              "      <td>0.0</td>\n",
              "      <td>BENIGN</td>\n",
              "    </tr>\n",
              "  </tbody>\n",
              "</table>\n",
              "<p>5 rows × 79 columns</p>\n",
              "</div>\n",
              "      <button class=\"colab-df-convert\" onclick=\"convertToInteractive('df-96a8cf52-552b-4800-a5af-e261999e7953')\"\n",
              "              title=\"Convert this dataframe to an interactive table.\"\n",
              "              style=\"display:none;\">\n",
              "        \n",
              "  <svg xmlns=\"http://www.w3.org/2000/svg\" height=\"24px\"viewBox=\"0 0 24 24\"\n",
              "       width=\"24px\">\n",
              "    <path d=\"M0 0h24v24H0V0z\" fill=\"none\"/>\n",
              "    <path d=\"M18.56 5.44l.94 2.06.94-2.06 2.06-.94-2.06-.94-.94-2.06-.94 2.06-2.06.94zm-11 1L8.5 8.5l.94-2.06 2.06-.94-2.06-.94L8.5 2.5l-.94 2.06-2.06.94zm10 10l.94 2.06.94-2.06 2.06-.94-2.06-.94-.94-2.06-.94 2.06-2.06.94z\"/><path d=\"M17.41 7.96l-1.37-1.37c-.4-.4-.92-.59-1.43-.59-.52 0-1.04.2-1.43.59L10.3 9.45l-7.72 7.72c-.78.78-.78 2.05 0 2.83L4 21.41c.39.39.9.59 1.41.59.51 0 1.02-.2 1.41-.59l7.78-7.78 2.81-2.81c.8-.78.8-2.07 0-2.86zM5.41 20L4 18.59l7.72-7.72 1.47 1.35L5.41 20z\"/>\n",
              "  </svg>\n",
              "      </button>\n",
              "      \n",
              "  <style>\n",
              "    .colab-df-container {\n",
              "      display:flex;\n",
              "      flex-wrap:wrap;\n",
              "      gap: 12px;\n",
              "    }\n",
              "\n",
              "    .colab-df-convert {\n",
              "      background-color: #E8F0FE;\n",
              "      border: none;\n",
              "      border-radius: 50%;\n",
              "      cursor: pointer;\n",
              "      display: none;\n",
              "      fill: #1967D2;\n",
              "      height: 32px;\n",
              "      padding: 0 0 0 0;\n",
              "      width: 32px;\n",
              "    }\n",
              "\n",
              "    .colab-df-convert:hover {\n",
              "      background-color: #E2EBFA;\n",
              "      box-shadow: 0px 1px 2px rgba(60, 64, 67, 0.3), 0px 1px 3px 1px rgba(60, 64, 67, 0.15);\n",
              "      fill: #174EA6;\n",
              "    }\n",
              "\n",
              "    [theme=dark] .colab-df-convert {\n",
              "      background-color: #3B4455;\n",
              "      fill: #D2E3FC;\n",
              "    }\n",
              "\n",
              "    [theme=dark] .colab-df-convert:hover {\n",
              "      background-color: #434B5C;\n",
              "      box-shadow: 0px 1px 3px 1px rgba(0, 0, 0, 0.15);\n",
              "      filter: drop-shadow(0px 1px 2px rgba(0, 0, 0, 0.3));\n",
              "      fill: #FFFFFF;\n",
              "    }\n",
              "  </style>\n",
              "\n",
              "      <script>\n",
              "        const buttonEl =\n",
              "          document.querySelector('#df-96a8cf52-552b-4800-a5af-e261999e7953 button.colab-df-convert');\n",
              "        buttonEl.style.display =\n",
              "          google.colab.kernel.accessAllowed ? 'block' : 'none';\n",
              "\n",
              "        async function convertToInteractive(key) {\n",
              "          const element = document.querySelector('#df-96a8cf52-552b-4800-a5af-e261999e7953');\n",
              "          const dataTable =\n",
              "            await google.colab.kernel.invokeFunction('convertToInteractive',\n",
              "                                                     [key], {});\n",
              "          if (!dataTable) return;\n",
              "\n",
              "          const docLinkHtml = 'Like what you see? Visit the ' +\n",
              "            '<a target=\"_blank\" href=https://colab.research.google.com/notebooks/data_table.ipynb>data table notebook</a>'\n",
              "            + ' to learn more about interactive tables.';\n",
              "          element.innerHTML = '';\n",
              "          dataTable['output_type'] = 'display_data';\n",
              "          await google.colab.output.renderOutput(dataTable, element);\n",
              "          const docLink = document.createElement('div');\n",
              "          docLink.innerHTML = docLinkHtml;\n",
              "          element.appendChild(docLink);\n",
              "        }\n",
              "      </script>\n",
              "    </div>\n",
              "  </div>\n",
              "  "
            ]
          },
          "metadata": {},
          "execution_count": 5
        }
      ],
      "source": [
        "df.head()"
      ]
    },
    {
      "cell_type": "code",
      "execution_count": 6,
      "metadata": {
        "colab": {
          "base_uri": "https://localhost:8080/"
        },
        "id": "0N4cYZAtg9ul",
        "outputId": "35148ab9-ed9c-4036-8e54-67f9e986d71b"
      },
      "outputs": [
        {
          "output_type": "stream",
          "name": "stdout",
          "text": [
            "original length of df: 525466\n"
          ]
        }
      ],
      "source": [
        "df.columns = df.columns.str.strip()\n",
        "print(\"original length of df:\", len(df))\n",
        "df.replace([np.inf, -np.inf], np.nan, inplace=True)"
      ]
    },
    {
      "cell_type": "code",
      "source": [
        "df.isnull().sum()"
      ],
      "metadata": {
        "colab": {
          "base_uri": "https://localhost:8080/"
        },
        "id": "iAEc2JKL9P4i",
        "outputId": "5a46b3f1-3707-495a-d9d8-dfc5452dec17"
      },
      "execution_count": 9,
      "outputs": [
        {
          "output_type": "execute_result",
          "data": {
            "text/plain": [
              "Destination Port               0\n",
              "Flow Duration                  0\n",
              "Total Fwd Packets              0\n",
              "Total Backward Packets         0\n",
              "Total Length of Fwd Packets    0\n",
              "                              ..\n",
              "Idle Mean                      0\n",
              "Idle Std                       0\n",
              "Idle Max                       0\n",
              "Idle Min                       0\n",
              "Label                          0\n",
              "Length: 79, dtype: int64"
            ]
          },
          "metadata": {},
          "execution_count": 9
        }
      ]
    },
    {
      "cell_type": "code",
      "execution_count": 8,
      "metadata": {
        "id": "xgQyUTW_hFbR"
      },
      "outputs": [],
      "source": [
        "df.dropna(inplace=True)"
      ]
    },
    {
      "cell_type": "code",
      "execution_count": 7,
      "metadata": {
        "colab": {
          "base_uri": "https://localhost:8080/"
        },
        "id": "rmLkM5eWhJFu",
        "outputId": "5e1fdf92-73fa-4da7-cdcc-22c097e37c9b"
      },
      "outputs": [
        {
          "output_type": "execute_result",
          "data": {
            "text/plain": [
              "BENIGN      238221\n",
              "PortScan    158804\n",
              "DDoS        128025\n",
              "Name: Label, dtype: int64"
            ]
          },
          "metadata": {},
          "execution_count": 7
        }
      ],
      "source": [
        "df.Label.value_counts()"
      ]
    },
    {
      "cell_type": "code",
      "execution_count": 8,
      "metadata": {
        "colab": {
          "base_uri": "https://localhost:8080/"
        },
        "id": "sEfz4EBgc5Cx",
        "outputId": "c0684693-6a57-449e-d49c-16d2cf0e8f01"
      },
      "outputs": [
        {
          "output_type": "execute_result",
          "data": {
            "text/plain": [
              "Index(['Destination Port', 'Flow Duration', 'Total Fwd Packets',\n",
              "       'Total Backward Packets', 'Total Length of Fwd Packets',\n",
              "       'Total Length of Bwd Packets', 'Fwd Packet Length Max',\n",
              "       'Fwd Packet Length Min', 'Fwd Packet Length Mean',\n",
              "       'Fwd Packet Length Std', 'Bwd Packet Length Max',\n",
              "       'Bwd Packet Length Min', 'Bwd Packet Length Mean',\n",
              "       'Bwd Packet Length Std', 'Flow Bytes/s', 'Flow Packets/s',\n",
              "       'Flow IAT Mean', 'Flow IAT Std', 'Flow IAT Max', 'Flow IAT Min',\n",
              "       'Fwd IAT Total', 'Fwd IAT Mean', 'Fwd IAT Std', 'Fwd IAT Max',\n",
              "       'Fwd IAT Min', 'Bwd IAT Total', 'Bwd IAT Mean', 'Bwd IAT Std',\n",
              "       'Bwd IAT Max', 'Bwd IAT Min', 'Fwd PSH Flags', 'Bwd PSH Flags',\n",
              "       'Fwd URG Flags', 'Bwd URG Flags', 'Fwd Header Length',\n",
              "       'Bwd Header Length', 'Fwd Packets/s', 'Bwd Packets/s',\n",
              "       'Min Packet Length', 'Max Packet Length', 'Packet Length Mean',\n",
              "       'Packet Length Std', 'Packet Length Variance', 'FIN Flag Count',\n",
              "       'SYN Flag Count', 'RST Flag Count', 'PSH Flag Count', 'ACK Flag Count',\n",
              "       'URG Flag Count', 'CWE Flag Count', 'ECE Flag Count', 'Down/Up Ratio',\n",
              "       'Average Packet Size', 'Avg Fwd Segment Size', 'Avg Bwd Segment Size',\n",
              "       'Fwd Header Length.1', 'Fwd Avg Bytes/Bulk', 'Fwd Avg Packets/Bulk',\n",
              "       'Fwd Avg Bulk Rate', 'Bwd Avg Bytes/Bulk', 'Bwd Avg Packets/Bulk',\n",
              "       'Bwd Avg Bulk Rate', 'Subflow Fwd Packets', 'Subflow Fwd Bytes',\n",
              "       'Subflow Bwd Packets', 'Subflow Bwd Bytes', 'Init_Win_bytes_forward',\n",
              "       'Init_Win_bytes_backward', 'act_data_pkt_fwd', 'min_seg_size_forward',\n",
              "       'Active Mean', 'Active Std', 'Active Max', 'Active Min', 'Idle Mean',\n",
              "       'Idle Std', 'Idle Max', 'Idle Min', 'Label'],\n",
              "      dtype='object')"
            ]
          },
          "metadata": {},
          "execution_count": 8
        }
      ],
      "source": [
        "df.columns"
      ]
    },
    {
      "cell_type": "code",
      "execution_count": 9,
      "metadata": {
        "colab": {
          "base_uri": "https://localhost:8080/"
        },
        "id": "oXiBz250d0H_",
        "outputId": "f63d0962-b126-4d29-ae3d-648bd04092d5"
      },
      "outputs": [
        {
          "output_type": "stream",
          "name": "stdout",
          "text": [
            "<class 'pandas.core.frame.DataFrame'>\n",
            "Int64Index: 525050 entries, 0 to 525464\n",
            "Data columns (total 79 columns):\n",
            " #   Column                       Non-Null Count   Dtype  \n",
            "---  ------                       --------------   -----  \n",
            " 0   Destination Port             525050 non-null  int64  \n",
            " 1   Flow Duration                525050 non-null  int64  \n",
            " 2   Total Fwd Packets            525050 non-null  int64  \n",
            " 3   Total Backward Packets       525050 non-null  int64  \n",
            " 4   Total Length of Fwd Packets  525050 non-null  int64  \n",
            " 5   Total Length of Bwd Packets  525050 non-null  int64  \n",
            " 6   Fwd Packet Length Max        525050 non-null  int64  \n",
            " 7   Fwd Packet Length Min        525050 non-null  int64  \n",
            " 8   Fwd Packet Length Mean       525050 non-null  float64\n",
            " 9   Fwd Packet Length Std        525050 non-null  float64\n",
            " 10  Bwd Packet Length Max        525050 non-null  int64  \n",
            " 11  Bwd Packet Length Min        525050 non-null  int64  \n",
            " 12  Bwd Packet Length Mean       525050 non-null  float64\n",
            " 13  Bwd Packet Length Std        525050 non-null  float64\n",
            " 14  Flow Bytes/s                 525050 non-null  float64\n",
            " 15  Flow Packets/s               525050 non-null  float64\n",
            " 16  Flow IAT Mean                525050 non-null  float64\n",
            " 17  Flow IAT Std                 525050 non-null  float64\n",
            " 18  Flow IAT Max                 525050 non-null  int64  \n",
            " 19  Flow IAT Min                 525050 non-null  int64  \n",
            " 20  Fwd IAT Total                525050 non-null  int64  \n",
            " 21  Fwd IAT Mean                 525050 non-null  float64\n",
            " 22  Fwd IAT Std                  525050 non-null  float64\n",
            " 23  Fwd IAT Max                  525050 non-null  int64  \n",
            " 24  Fwd IAT Min                  525050 non-null  int64  \n",
            " 25  Bwd IAT Total                525050 non-null  int64  \n",
            " 26  Bwd IAT Mean                 525050 non-null  float64\n",
            " 27  Bwd IAT Std                  525050 non-null  float64\n",
            " 28  Bwd IAT Max                  525050 non-null  int64  \n",
            " 29  Bwd IAT Min                  525050 non-null  int64  \n",
            " 30  Fwd PSH Flags                525050 non-null  int64  \n",
            " 31  Bwd PSH Flags                525050 non-null  int64  \n",
            " 32  Fwd URG Flags                525050 non-null  float64\n",
            " 33  Bwd URG Flags                525050 non-null  float64\n",
            " 34  Fwd Header Length            525050 non-null  float64\n",
            " 35  Bwd Header Length            525050 non-null  float64\n",
            " 36  Fwd Packets/s                525050 non-null  float64\n",
            " 37  Bwd Packets/s                525050 non-null  float64\n",
            " 38  Min Packet Length            525050 non-null  float64\n",
            " 39  Max Packet Length            525050 non-null  float64\n",
            " 40  Packet Length Mean           525050 non-null  float64\n",
            " 41  Packet Length Std            525050 non-null  float64\n",
            " 42  Packet Length Variance       525050 non-null  float64\n",
            " 43  FIN Flag Count               525050 non-null  float64\n",
            " 44  SYN Flag Count               525050 non-null  float64\n",
            " 45  RST Flag Count               525050 non-null  float64\n",
            " 46  PSH Flag Count               525050 non-null  float64\n",
            " 47  ACK Flag Count               525050 non-null  float64\n",
            " 48  URG Flag Count               525050 non-null  float64\n",
            " 49  CWE Flag Count               525050 non-null  float64\n",
            " 50  ECE Flag Count               525050 non-null  float64\n",
            " 51  Down/Up Ratio                525050 non-null  float64\n",
            " 52  Average Packet Size          525050 non-null  float64\n",
            " 53  Avg Fwd Segment Size         525050 non-null  float64\n",
            " 54  Avg Bwd Segment Size         525050 non-null  float64\n",
            " 55  Fwd Header Length.1          525050 non-null  float64\n",
            " 56  Fwd Avg Bytes/Bulk           525050 non-null  float64\n",
            " 57  Fwd Avg Packets/Bulk         525050 non-null  float64\n",
            " 58  Fwd Avg Bulk Rate            525050 non-null  float64\n",
            " 59  Bwd Avg Bytes/Bulk           525050 non-null  float64\n",
            " 60  Bwd Avg Packets/Bulk         525050 non-null  float64\n",
            " 61  Bwd Avg Bulk Rate            525050 non-null  float64\n",
            " 62  Subflow Fwd Packets          525050 non-null  float64\n",
            " 63  Subflow Fwd Bytes            525050 non-null  float64\n",
            " 64  Subflow Bwd Packets          525050 non-null  float64\n",
            " 65  Subflow Bwd Bytes            525050 non-null  float64\n",
            " 66  Init_Win_bytes_forward       525050 non-null  float64\n",
            " 67  Init_Win_bytes_backward      525050 non-null  float64\n",
            " 68  act_data_pkt_fwd             525050 non-null  float64\n",
            " 69  min_seg_size_forward         525050 non-null  float64\n",
            " 70  Active Mean                  525050 non-null  float64\n",
            " 71  Active Std                   525050 non-null  float64\n",
            " 72  Active Max                   525050 non-null  float64\n",
            " 73  Active Min                   525050 non-null  float64\n",
            " 74  Idle Mean                    525050 non-null  float64\n",
            " 75  Idle Std                     525050 non-null  float64\n",
            " 76  Idle Max                     525050 non-null  float64\n",
            " 77  Idle Min                     525050 non-null  float64\n",
            " 78  Label                        525050 non-null  object \n",
            "dtypes: float64(58), int64(20), object(1)\n",
            "memory usage: 320.5+ MB\n"
          ]
        }
      ],
      "source": [
        "df.info()"
      ]
    },
    {
      "cell_type": "code",
      "execution_count": 10,
      "metadata": {
        "colab": {
          "base_uri": "https://localhost:8080/"
        },
        "id": "w-ie8XY1Xq-6",
        "outputId": "2bd93007-194d-4e97-f610-9bbbbe712354"
      },
      "outputs": [
        {
          "output_type": "execute_result",
          "data": {
            "text/plain": [
              "(525050, 79)"
            ]
          },
          "metadata": {},
          "execution_count": 10
        }
      ],
      "source": [
        "df.shape"
      ]
    },
    {
      "cell_type": "code",
      "execution_count": 11,
      "metadata": {
        "colab": {
          "base_uri": "https://localhost:8080/",
          "height": 540
        },
        "id": "CFeR4T5EXtfl",
        "outputId": "94cb1a6b-9d86-4053-9b28-604d9a1e12d3"
      },
      "outputs": [
        {
          "output_type": "execute_result",
          "data": {
            "text/plain": [
              "        Destination Port  Flow Duration  Total Fwd Packets  \\\n",
              "0                  False          False              False   \n",
              "1                  False          False              False   \n",
              "2                  False          False              False   \n",
              "3                  False          False              False   \n",
              "4                  False          False              False   \n",
              "...                  ...            ...                ...   \n",
              "525460             False          False              False   \n",
              "525461             False          False              False   \n",
              "525462             False          False              False   \n",
              "525463             False          False              False   \n",
              "525464             False          False              False   \n",
              "\n",
              "        Total Backward Packets  Total Length of Fwd Packets  \\\n",
              "0                        False                        False   \n",
              "1                        False                        False   \n",
              "2                        False                        False   \n",
              "3                        False                        False   \n",
              "4                        False                        False   \n",
              "...                        ...                          ...   \n",
              "525460                   False                        False   \n",
              "525461                   False                        False   \n",
              "525462                   False                        False   \n",
              "525463                   False                        False   \n",
              "525464                   False                        False   \n",
              "\n",
              "        Total Length of Bwd Packets  Fwd Packet Length Max  \\\n",
              "0                             False                  False   \n",
              "1                             False                  False   \n",
              "2                             False                  False   \n",
              "3                             False                  False   \n",
              "4                             False                  False   \n",
              "...                             ...                    ...   \n",
              "525460                        False                  False   \n",
              "525461                        False                  False   \n",
              "525462                        False                  False   \n",
              "525463                        False                  False   \n",
              "525464                        False                  False   \n",
              "\n",
              "        Fwd Packet Length Min  Fwd Packet Length Mean  Fwd Packet Length Std  \\\n",
              "0                       False                   False                  False   \n",
              "1                       False                   False                  False   \n",
              "2                       False                   False                  False   \n",
              "3                       False                   False                  False   \n",
              "4                       False                   False                  False   \n",
              "...                       ...                     ...                    ...   \n",
              "525460                  False                   False                  False   \n",
              "525461                  False                   False                  False   \n",
              "525462                  False                   False                  False   \n",
              "525463                  False                   False                  False   \n",
              "525464                  False                   False                  False   \n",
              "\n",
              "        ...  min_seg_size_forward  Active Mean  Active Std  Active Max  \\\n",
              "0       ...                 False        False       False       False   \n",
              "1       ...                 False        False       False       False   \n",
              "2       ...                 False        False       False       False   \n",
              "3       ...                 False        False       False       False   \n",
              "4       ...                 False        False       False       False   \n",
              "...     ...                   ...          ...         ...         ...   \n",
              "525460  ...                 False        False       False       False   \n",
              "525461  ...                 False        False       False       False   \n",
              "525462  ...                 False        False       False       False   \n",
              "525463  ...                 False        False       False       False   \n",
              "525464  ...                 False        False       False       False   \n",
              "\n",
              "        Active Min  Idle Mean  Idle Std  Idle Max  Idle Min  Label  \n",
              "0            False      False     False     False     False  False  \n",
              "1            False      False     False     False     False  False  \n",
              "2            False      False     False     False     False  False  \n",
              "3            False      False     False     False     False  False  \n",
              "4            False      False     False     False     False  False  \n",
              "...            ...        ...       ...       ...       ...    ...  \n",
              "525460       False      False     False     False     False  False  \n",
              "525461       False      False     False     False     False  False  \n",
              "525462       False      False     False     False     False  False  \n",
              "525463       False      False     False     False     False  False  \n",
              "525464       False      False     False     False     False  False  \n",
              "\n",
              "[525050 rows x 79 columns]"
            ],
            "text/html": [
              "\n",
              "  <div id=\"df-6aae8951-29c2-4412-8352-170f5a5dcaf1\">\n",
              "    <div class=\"colab-df-container\">\n",
              "      <div>\n",
              "<style scoped>\n",
              "    .dataframe tbody tr th:only-of-type {\n",
              "        vertical-align: middle;\n",
              "    }\n",
              "\n",
              "    .dataframe tbody tr th {\n",
              "        vertical-align: top;\n",
              "    }\n",
              "\n",
              "    .dataframe thead th {\n",
              "        text-align: right;\n",
              "    }\n",
              "</style>\n",
              "<table border=\"1\" class=\"dataframe\">\n",
              "  <thead>\n",
              "    <tr style=\"text-align: right;\">\n",
              "      <th></th>\n",
              "      <th>Destination Port</th>\n",
              "      <th>Flow Duration</th>\n",
              "      <th>Total Fwd Packets</th>\n",
              "      <th>Total Backward Packets</th>\n",
              "      <th>Total Length of Fwd Packets</th>\n",
              "      <th>Total Length of Bwd Packets</th>\n",
              "      <th>Fwd Packet Length Max</th>\n",
              "      <th>Fwd Packet Length Min</th>\n",
              "      <th>Fwd Packet Length Mean</th>\n",
              "      <th>Fwd Packet Length Std</th>\n",
              "      <th>...</th>\n",
              "      <th>min_seg_size_forward</th>\n",
              "      <th>Active Mean</th>\n",
              "      <th>Active Std</th>\n",
              "      <th>Active Max</th>\n",
              "      <th>Active Min</th>\n",
              "      <th>Idle Mean</th>\n",
              "      <th>Idle Std</th>\n",
              "      <th>Idle Max</th>\n",
              "      <th>Idle Min</th>\n",
              "      <th>Label</th>\n",
              "    </tr>\n",
              "  </thead>\n",
              "  <tbody>\n",
              "    <tr>\n",
              "      <th>0</th>\n",
              "      <td>False</td>\n",
              "      <td>False</td>\n",
              "      <td>False</td>\n",
              "      <td>False</td>\n",
              "      <td>False</td>\n",
              "      <td>False</td>\n",
              "      <td>False</td>\n",
              "      <td>False</td>\n",
              "      <td>False</td>\n",
              "      <td>False</td>\n",
              "      <td>...</td>\n",
              "      <td>False</td>\n",
              "      <td>False</td>\n",
              "      <td>False</td>\n",
              "      <td>False</td>\n",
              "      <td>False</td>\n",
              "      <td>False</td>\n",
              "      <td>False</td>\n",
              "      <td>False</td>\n",
              "      <td>False</td>\n",
              "      <td>False</td>\n",
              "    </tr>\n",
              "    <tr>\n",
              "      <th>1</th>\n",
              "      <td>False</td>\n",
              "      <td>False</td>\n",
              "      <td>False</td>\n",
              "      <td>False</td>\n",
              "      <td>False</td>\n",
              "      <td>False</td>\n",
              "      <td>False</td>\n",
              "      <td>False</td>\n",
              "      <td>False</td>\n",
              "      <td>False</td>\n",
              "      <td>...</td>\n",
              "      <td>False</td>\n",
              "      <td>False</td>\n",
              "      <td>False</td>\n",
              "      <td>False</td>\n",
              "      <td>False</td>\n",
              "      <td>False</td>\n",
              "      <td>False</td>\n",
              "      <td>False</td>\n",
              "      <td>False</td>\n",
              "      <td>False</td>\n",
              "    </tr>\n",
              "    <tr>\n",
              "      <th>2</th>\n",
              "      <td>False</td>\n",
              "      <td>False</td>\n",
              "      <td>False</td>\n",
              "      <td>False</td>\n",
              "      <td>False</td>\n",
              "      <td>False</td>\n",
              "      <td>False</td>\n",
              "      <td>False</td>\n",
              "      <td>False</td>\n",
              "      <td>False</td>\n",
              "      <td>...</td>\n",
              "      <td>False</td>\n",
              "      <td>False</td>\n",
              "      <td>False</td>\n",
              "      <td>False</td>\n",
              "      <td>False</td>\n",
              "      <td>False</td>\n",
              "      <td>False</td>\n",
              "      <td>False</td>\n",
              "      <td>False</td>\n",
              "      <td>False</td>\n",
              "    </tr>\n",
              "    <tr>\n",
              "      <th>3</th>\n",
              "      <td>False</td>\n",
              "      <td>False</td>\n",
              "      <td>False</td>\n",
              "      <td>False</td>\n",
              "      <td>False</td>\n",
              "      <td>False</td>\n",
              "      <td>False</td>\n",
              "      <td>False</td>\n",
              "      <td>False</td>\n",
              "      <td>False</td>\n",
              "      <td>...</td>\n",
              "      <td>False</td>\n",
              "      <td>False</td>\n",
              "      <td>False</td>\n",
              "      <td>False</td>\n",
              "      <td>False</td>\n",
              "      <td>False</td>\n",
              "      <td>False</td>\n",
              "      <td>False</td>\n",
              "      <td>False</td>\n",
              "      <td>False</td>\n",
              "    </tr>\n",
              "    <tr>\n",
              "      <th>4</th>\n",
              "      <td>False</td>\n",
              "      <td>False</td>\n",
              "      <td>False</td>\n",
              "      <td>False</td>\n",
              "      <td>False</td>\n",
              "      <td>False</td>\n",
              "      <td>False</td>\n",
              "      <td>False</td>\n",
              "      <td>False</td>\n",
              "      <td>False</td>\n",
              "      <td>...</td>\n",
              "      <td>False</td>\n",
              "      <td>False</td>\n",
              "      <td>False</td>\n",
              "      <td>False</td>\n",
              "      <td>False</td>\n",
              "      <td>False</td>\n",
              "      <td>False</td>\n",
              "      <td>False</td>\n",
              "      <td>False</td>\n",
              "      <td>False</td>\n",
              "    </tr>\n",
              "    <tr>\n",
              "      <th>...</th>\n",
              "      <td>...</td>\n",
              "      <td>...</td>\n",
              "      <td>...</td>\n",
              "      <td>...</td>\n",
              "      <td>...</td>\n",
              "      <td>...</td>\n",
              "      <td>...</td>\n",
              "      <td>...</td>\n",
              "      <td>...</td>\n",
              "      <td>...</td>\n",
              "      <td>...</td>\n",
              "      <td>...</td>\n",
              "      <td>...</td>\n",
              "      <td>...</td>\n",
              "      <td>...</td>\n",
              "      <td>...</td>\n",
              "      <td>...</td>\n",
              "      <td>...</td>\n",
              "      <td>...</td>\n",
              "      <td>...</td>\n",
              "      <td>...</td>\n",
              "    </tr>\n",
              "    <tr>\n",
              "      <th>525460</th>\n",
              "      <td>False</td>\n",
              "      <td>False</td>\n",
              "      <td>False</td>\n",
              "      <td>False</td>\n",
              "      <td>False</td>\n",
              "      <td>False</td>\n",
              "      <td>False</td>\n",
              "      <td>False</td>\n",
              "      <td>False</td>\n",
              "      <td>False</td>\n",
              "      <td>...</td>\n",
              "      <td>False</td>\n",
              "      <td>False</td>\n",
              "      <td>False</td>\n",
              "      <td>False</td>\n",
              "      <td>False</td>\n",
              "      <td>False</td>\n",
              "      <td>False</td>\n",
              "      <td>False</td>\n",
              "      <td>False</td>\n",
              "      <td>False</td>\n",
              "    </tr>\n",
              "    <tr>\n",
              "      <th>525461</th>\n",
              "      <td>False</td>\n",
              "      <td>False</td>\n",
              "      <td>False</td>\n",
              "      <td>False</td>\n",
              "      <td>False</td>\n",
              "      <td>False</td>\n",
              "      <td>False</td>\n",
              "      <td>False</td>\n",
              "      <td>False</td>\n",
              "      <td>False</td>\n",
              "      <td>...</td>\n",
              "      <td>False</td>\n",
              "      <td>False</td>\n",
              "      <td>False</td>\n",
              "      <td>False</td>\n",
              "      <td>False</td>\n",
              "      <td>False</td>\n",
              "      <td>False</td>\n",
              "      <td>False</td>\n",
              "      <td>False</td>\n",
              "      <td>False</td>\n",
              "    </tr>\n",
              "    <tr>\n",
              "      <th>525462</th>\n",
              "      <td>False</td>\n",
              "      <td>False</td>\n",
              "      <td>False</td>\n",
              "      <td>False</td>\n",
              "      <td>False</td>\n",
              "      <td>False</td>\n",
              "      <td>False</td>\n",
              "      <td>False</td>\n",
              "      <td>False</td>\n",
              "      <td>False</td>\n",
              "      <td>...</td>\n",
              "      <td>False</td>\n",
              "      <td>False</td>\n",
              "      <td>False</td>\n",
              "      <td>False</td>\n",
              "      <td>False</td>\n",
              "      <td>False</td>\n",
              "      <td>False</td>\n",
              "      <td>False</td>\n",
              "      <td>False</td>\n",
              "      <td>False</td>\n",
              "    </tr>\n",
              "    <tr>\n",
              "      <th>525463</th>\n",
              "      <td>False</td>\n",
              "      <td>False</td>\n",
              "      <td>False</td>\n",
              "      <td>False</td>\n",
              "      <td>False</td>\n",
              "      <td>False</td>\n",
              "      <td>False</td>\n",
              "      <td>False</td>\n",
              "      <td>False</td>\n",
              "      <td>False</td>\n",
              "      <td>...</td>\n",
              "      <td>False</td>\n",
              "      <td>False</td>\n",
              "      <td>False</td>\n",
              "      <td>False</td>\n",
              "      <td>False</td>\n",
              "      <td>False</td>\n",
              "      <td>False</td>\n",
              "      <td>False</td>\n",
              "      <td>False</td>\n",
              "      <td>False</td>\n",
              "    </tr>\n",
              "    <tr>\n",
              "      <th>525464</th>\n",
              "      <td>False</td>\n",
              "      <td>False</td>\n",
              "      <td>False</td>\n",
              "      <td>False</td>\n",
              "      <td>False</td>\n",
              "      <td>False</td>\n",
              "      <td>False</td>\n",
              "      <td>False</td>\n",
              "      <td>False</td>\n",
              "      <td>False</td>\n",
              "      <td>...</td>\n",
              "      <td>False</td>\n",
              "      <td>False</td>\n",
              "      <td>False</td>\n",
              "      <td>False</td>\n",
              "      <td>False</td>\n",
              "      <td>False</td>\n",
              "      <td>False</td>\n",
              "      <td>False</td>\n",
              "      <td>False</td>\n",
              "      <td>False</td>\n",
              "    </tr>\n",
              "  </tbody>\n",
              "</table>\n",
              "<p>525050 rows × 79 columns</p>\n",
              "</div>\n",
              "      <button class=\"colab-df-convert\" onclick=\"convertToInteractive('df-6aae8951-29c2-4412-8352-170f5a5dcaf1')\"\n",
              "              title=\"Convert this dataframe to an interactive table.\"\n",
              "              style=\"display:none;\">\n",
              "        \n",
              "  <svg xmlns=\"http://www.w3.org/2000/svg\" height=\"24px\"viewBox=\"0 0 24 24\"\n",
              "       width=\"24px\">\n",
              "    <path d=\"M0 0h24v24H0V0z\" fill=\"none\"/>\n",
              "    <path d=\"M18.56 5.44l.94 2.06.94-2.06 2.06-.94-2.06-.94-.94-2.06-.94 2.06-2.06.94zm-11 1L8.5 8.5l.94-2.06 2.06-.94-2.06-.94L8.5 2.5l-.94 2.06-2.06.94zm10 10l.94 2.06.94-2.06 2.06-.94-2.06-.94-.94-2.06-.94 2.06-2.06.94z\"/><path d=\"M17.41 7.96l-1.37-1.37c-.4-.4-.92-.59-1.43-.59-.52 0-1.04.2-1.43.59L10.3 9.45l-7.72 7.72c-.78.78-.78 2.05 0 2.83L4 21.41c.39.39.9.59 1.41.59.51 0 1.02-.2 1.41-.59l7.78-7.78 2.81-2.81c.8-.78.8-2.07 0-2.86zM5.41 20L4 18.59l7.72-7.72 1.47 1.35L5.41 20z\"/>\n",
              "  </svg>\n",
              "      </button>\n",
              "      \n",
              "  <style>\n",
              "    .colab-df-container {\n",
              "      display:flex;\n",
              "      flex-wrap:wrap;\n",
              "      gap: 12px;\n",
              "    }\n",
              "\n",
              "    .colab-df-convert {\n",
              "      background-color: #E8F0FE;\n",
              "      border: none;\n",
              "      border-radius: 50%;\n",
              "      cursor: pointer;\n",
              "      display: none;\n",
              "      fill: #1967D2;\n",
              "      height: 32px;\n",
              "      padding: 0 0 0 0;\n",
              "      width: 32px;\n",
              "    }\n",
              "\n",
              "    .colab-df-convert:hover {\n",
              "      background-color: #E2EBFA;\n",
              "      box-shadow: 0px 1px 2px rgba(60, 64, 67, 0.3), 0px 1px 3px 1px rgba(60, 64, 67, 0.15);\n",
              "      fill: #174EA6;\n",
              "    }\n",
              "\n",
              "    [theme=dark] .colab-df-convert {\n",
              "      background-color: #3B4455;\n",
              "      fill: #D2E3FC;\n",
              "    }\n",
              "\n",
              "    [theme=dark] .colab-df-convert:hover {\n",
              "      background-color: #434B5C;\n",
              "      box-shadow: 0px 1px 3px 1px rgba(0, 0, 0, 0.15);\n",
              "      filter: drop-shadow(0px 1px 2px rgba(0, 0, 0, 0.3));\n",
              "      fill: #FFFFFF;\n",
              "    }\n",
              "  </style>\n",
              "\n",
              "      <script>\n",
              "        const buttonEl =\n",
              "          document.querySelector('#df-6aae8951-29c2-4412-8352-170f5a5dcaf1 button.colab-df-convert');\n",
              "        buttonEl.style.display =\n",
              "          google.colab.kernel.accessAllowed ? 'block' : 'none';\n",
              "\n",
              "        async function convertToInteractive(key) {\n",
              "          const element = document.querySelector('#df-6aae8951-29c2-4412-8352-170f5a5dcaf1');\n",
              "          const dataTable =\n",
              "            await google.colab.kernel.invokeFunction('convertToInteractive',\n",
              "                                                     [key], {});\n",
              "          if (!dataTable) return;\n",
              "\n",
              "          const docLinkHtml = 'Like what you see? Visit the ' +\n",
              "            '<a target=\"_blank\" href=https://colab.research.google.com/notebooks/data_table.ipynb>data table notebook</a>'\n",
              "            + ' to learn more about interactive tables.';\n",
              "          element.innerHTML = '';\n",
              "          dataTable['output_type'] = 'display_data';\n",
              "          await google.colab.output.renderOutput(dataTable, element);\n",
              "          const docLink = document.createElement('div');\n",
              "          docLink.innerHTML = docLinkHtml;\n",
              "          element.appendChild(docLink);\n",
              "        }\n",
              "      </script>\n",
              "    </div>\n",
              "  </div>\n",
              "  "
            ]
          },
          "metadata": {},
          "execution_count": 11
        }
      ],
      "source": [
        "df.isnull()"
      ]
    },
    {
      "cell_type": "code",
      "execution_count": 12,
      "metadata": {
        "colab": {
          "base_uri": "https://localhost:8080/"
        },
        "id": "YGzzYxIoZEIr",
        "outputId": "0ae71c5f-340a-4ea5-84cd-c9ce01954af7"
      },
      "outputs": [
        {
          "output_type": "execute_result",
          "data": {
            "text/plain": [
              "Destination Port               0\n",
              "Flow Duration                  0\n",
              "Total Fwd Packets              0\n",
              "Total Backward Packets         0\n",
              "Total Length of Fwd Packets    0\n",
              "                              ..\n",
              "Idle Mean                      0\n",
              "Idle Std                       0\n",
              "Idle Max                       0\n",
              "Idle Min                       0\n",
              "Label                          0\n",
              "Length: 79, dtype: int64"
            ]
          },
          "metadata": {},
          "execution_count": 12
        }
      ],
      "source": [
        "df.isnull().sum()"
      ]
    },
    {
      "cell_type": "code",
      "source": [
        "\n",
        "\n",
        "# Count the occurrences of each class label\n",
        "class_counts = df['Label'].value_counts()\n",
        "\n",
        "# Plot the class distribution using a bar chart\n",
        "plt.figure(figsize=(8, 4))\n",
        "class_counts.plot(kind='bar')\n",
        "plt.xlabel('Class Labels')\n",
        "plt.ylabel('Count')\n",
        "plt.title('Class Distribution')\n",
        "plt.show()\n"
      ],
      "metadata": {
        "colab": {
          "base_uri": "https://localhost:8080/",
          "height": 457
        },
        "id": "tb_RzgNDcOKv",
        "outputId": "62e46c70-85e6-42e7-e959-3588433dd96c"
      },
      "execution_count": 14,
      "outputs": [
        {
          "output_type": "display_data",
          "data": {
            "text/plain": [
              "<Figure size 800x400 with 1 Axes>"
            ],
            "image/png": "[encoded data removed]"
          },
          "metadata": {}
        }
      ]
    },
    {
      "cell_type": "code",
      "source": [
        "\n",
        "\n",
        "\n",
        "df1=df[['Destination Port', 'Flow Duration', 'Total Fwd Packets',\n",
        "       'Total Backward Packets', 'Total Length of Fwd Packets',\n",
        "       'Total Length of Bwd Packets', 'Fwd Packet Length Max',\n",
        "       'Fwd Packet Length Min', 'Fwd Packet Length Mean','Label']]\n",
        "# Compute the correlation matrix\n",
        "corr_matrix = df1.corr()\n",
        "\n",
        "# Generate a heatmap of the correlation matrix\n",
        "plt.figure(figsize=(12, 10))\n",
        "sns.heatmap(corr_matrix, annot=True, cmap='coolwarm')\n",
        "plt.title('Feature Correlation Heatmap')\n",
        "plt.show()\n"
      ],
      "metadata": {
        "colab": {
          "base_uri": "https://localhost:8080/",
          "height": 1000
        },
        "id": "KTKwax2KcsZb",
        "outputId": "b0597135-caf4-4d31-f0ed-9aa9bac5cc25"
      },
      "execution_count": 16,
      "outputs": [
        {
          "output_type": "stream",
          "name": "stderr",
          "text": [
            "<ipython-input-16-e234dfbe3a68>:6: FutureWarning: The default value of numeric_only in DataFrame.corr is deprecated. In a future version, it will default to False. Select only valid columns or specify the value of numeric_only to silence this warning.\n",
            "  corr_matrix = df1.corr()\n"
          ]
        },
        {
          "output_type": "display_data",
          "data": {
            "text/plain": [
              "<Figure size 1200x1000 with 2 Axes>"
            ],
            "image/png": "[encoded data removed]"
          },
          "metadata": {}
        }
      ]
    },
    {
      "cell_type": "code",
      "source": [
        "\n",
        "\n",
        "# Filter the dataset for a specific network traffic class (e.g., 'Normal', 'Attack 1', 'Attack 2')\n",
        "traffic_class = 'PortScan'  # Replace 'Normal' with the desired traffic class\n",
        "filtered_df = df[df['Label'] == traffic_class]\n",
        "\n",
        "# Extract the packet length values for the selected traffic class\n",
        "packet_lengths = filtered_df['Total Length of Fwd Packets'].values\n",
        "\n",
        "# Plot the histogram of packet lengths\n",
        "plt.hist(packet_lengths, bins=50, edgecolor='black')\n",
        "plt.xlabel('Packet Length')\n",
        "plt.ylabel('Frequency')\n",
        "plt.title('Packet Length Distribution - ' + traffic_class)\n",
        "plt.show()\n"
      ],
      "metadata": {
        "colab": {
          "base_uri": "https://localhost:8080/",
          "height": 472
        },
        "id": "ozRqge5Ed1l4",
        "outputId": "1cf4b177-201b-4970-a50b-0187f91171ee"
      },
      "execution_count": 33,
      "outputs": [
        {
          "output_type": "display_data",
          "data": {
            "text/plain": [
              "<Figure size 640x480 with 1 Axes>"
            ],
            "image/png": "[encoded data removed]"
          },
          "metadata": {}
        }
      ]
    },
    {
      "cell_type": "code",
      "source": [
        "\n",
        "\n",
        "# Separate the data for normal traffic and attacks\n",
        "normal_traffic = df[df['Label'] == 'BENIGN']\n",
        "attacks = df[df['Label'] != 'BENIGN']\n",
        "\n",
        "# Plot the flow duration distribution for normal traffic and attacks\n",
        "plt.figure(figsize=(8, 4))\n",
        "plt.boxplot([normal_traffic['Flow Duration'], attacks['Flow Duration']], labels=['Normal Traffic', 'Attacks'])\n",
        "plt.ylabel('Flow Duration (seconds)')\n",
        "plt.title('Flow Duration Distribution')\n",
        "plt.show()\n"
      ],
      "metadata": {
        "colab": {
          "base_uri": "https://localhost:8080/",
          "height": 391
        },
        "id": "5fMLBt4YfSbX",
        "outputId": "6960139c-6737-45c8-8467-ea3e0fae9a4c"
      },
      "execution_count": 25,
      "outputs": [
        {
          "output_type": "display_data",
          "data": {
            "text/plain": [
              "<Figure size 800x400 with 1 Axes>"
            ],
            "image/png": "[encoded data removed]"
          },
          "metadata": {}
        }
      ]
    },
    {
      "cell_type": "code",
      "source": [
        "\n",
        "# Separate the features from the target variable\n",
        "X = df.drop('Label', axis=1)\n",
        "y = df['Label']\n",
        "from sklearn.preprocessing import LabelEncoder\n",
        "\n",
        "# Encode the class labels\n",
        "label_encoder = LabelEncoder()\n",
        "y = label_encoder.fit_transform(y)\n",
        "# Perform dimensionality reduction using PCA\n",
        "pca = PCA(n_components=3)\n",
        "X_pca = pca.fit_transform(X)\n",
        "\n",
        "# Create a 3D plot to visualize the data in reduced dimensions\n",
        "fig = plt.figure(figsize=(8, 6))\n",
        "ax = fig.add_subplot(111, projection='3d')\n",
        "ax.scatter(X_pca[:, 0], X_pca[:, 1], X_pca[:, 2], c=y, cmap='viridis')\n",
        "ax.set_xlabel('PC1')\n",
        "ax.set_ylabel('PC2')\n",
        "ax.set_zlabel('PC3')\n",
        "ax.set_title('Dimensionality Reduction Visualization (PCA)')\n",
        "plt.show()\n"
      ],
      "metadata": {
        "colab": {
          "base_uri": "https://localhost:8080/",
          "height": 524
        },
        "id": "PA57pUfDf8wW",
        "outputId": "440fc901-7853-4883-9465-7ea20e93be3a"
      },
      "execution_count": 29,
      "outputs": [
        {
          "output_type": "display_data",
          "data": {
            "text/plain": [
              "<Figure size 800x600 with 1 Axes>"
            ],
            "image/png": "[encoded data removed]"
          },
          "metadata": {}
        }
      ]
    },
    {
      "cell_type": "code",
      "source": [
        "df.head()"
      ],
      "metadata": {
        "colab": {
          "base_uri": "https://localhost:8080/",
          "height": 352
        },
        "id": "7whE21F50MX1",
        "outputId": "029f1ec4-323b-4756-b36f-adc3873d9f0e"
      },
      "execution_count": 41,
      "outputs": [
        {
          "output_type": "execute_result",
          "data": {
            "text/plain": [
              "   Destination Port  Flow Duration  Total Fwd Packets  Total Backward Packets  \\\n",
              "0             54865              3                  2                       0   \n",
              "1             55054            109                  1                       1   \n",
              "2             55055             52                  1                       1   \n",
              "3             46236             34                  1                       1   \n",
              "4             54863              3                  2                       0   \n",
              "\n",
              "   Total Length of Fwd Packets  Total Length of Bwd Packets  \\\n",
              "0                           12                            0   \n",
              "1                            6                            6   \n",
              "2                            6                            6   \n",
              "3                            6                            6   \n",
              "4                           12                            0   \n",
              "\n",
              "   Fwd Packet Length Max  Fwd Packet Length Min  Fwd Packet Length Mean  \\\n",
              "0                      6                      6                     6.0   \n",
              "1                      6                      6                     6.0   \n",
              "2                      6                      6                     6.0   \n",
              "3                      6                      6                     6.0   \n",
              "4                      6                      6                     6.0   \n",
              "\n",
              "   Fwd Packet Length Std  ...  act_data_pkt_fwd  min_seg_size_forward  \\\n",
              "0                    0.0  ...               1.0                  20.0   \n",
              "1                    0.0  ...               0.0                  20.0   \n",
              "2                    0.0  ...               0.0                  20.0   \n",
              "3                    0.0  ...               0.0                  20.0   \n",
              "4                    0.0  ...               1.0                  20.0   \n",
              "\n",
              "   Active Mean  Active Std  Active Max  Active Min  Idle Mean  Idle Std  \\\n",
              "0          0.0         0.0         0.0         0.0        0.0       0.0   \n",
              "1          0.0         0.0         0.0         0.0        0.0       0.0   \n",
              "2          0.0         0.0         0.0         0.0        0.0       0.0   \n",
              "3          0.0         0.0         0.0         0.0        0.0       0.0   \n",
              "4          0.0         0.0         0.0         0.0        0.0       0.0   \n",
              "\n",
              "   Idle Max  Idle Min  \n",
              "0       0.0       0.0  \n",
              "1       0.0       0.0  \n",
              "2       0.0       0.0  \n",
              "3       0.0       0.0  \n",
              "4       0.0       0.0  \n",
              "\n",
              "[5 rows x 78 columns]"
            ],
            "text/html": [
              "\n",
              "  <div id=\"df-8834dd5d-b6fa-4239-acd9-48e94021fdae\">\n",
              "    <div class=\"colab-df-container\">\n",
              "      <div>\n",
              "<style scoped>\n",
              "    .dataframe tbody tr th:only-of-type {\n",
              "        vertical-align: middle;\n",
              "    }\n",
              "\n",
              "    .dataframe tbody tr th {\n",
              "        vertical-align: top;\n",
              "    }\n",
              "\n",
              "    .dataframe thead th {\n",
              "        text-align: right;\n",
              "    }\n",
              "</style>\n",
              "<table border=\"1\" class=\"dataframe\">\n",
              "  <thead>\n",
              "    <tr style=\"text-align: right;\">\n",
              "      <th></th>\n",
              "      <th>Destination Port</th>\n",
              "      <th>Flow Duration</th>\n",
              "      <th>Total Fwd Packets</th>\n",
              "      <th>Total Backward Packets</th>\n",
              "      <th>Total Length of Fwd Packets</th>\n",
              "      <th>Total Length of Bwd Packets</th>\n",
              "      <th>Fwd Packet Length Max</th>\n",
              "      <th>Fwd Packet Length Min</th>\n",
              "      <th>Fwd Packet Length Mean</th>\n",
              "      <th>Fwd Packet Length Std</th>\n",
              "      <th>...</th>\n",
              "      <th>act_data_pkt_fwd</th>\n",
              "      <th>min_seg_size_forward</th>\n",
              "      <th>Active Mean</th>\n",
              "      <th>Active Std</th>\n",
              "      <th>Active Max</th>\n",
              "      <th>Active Min</th>\n",
              "      <th>Idle Mean</th>\n",
              "      <th>Idle Std</th>\n",
              "      <th>Idle Max</th>\n",
              "      <th>Idle Min</th>\n",
              "    </tr>\n",
              "  </thead>\n",
              "  <tbody>\n",
              "    <tr>\n",
              "      <th>0</th>\n",
              "      <td>54865</td>\n",
              "      <td>3</td>\n",
              "      <td>2</td>\n",
              "      <td>0</td>\n",
              "      <td>12</td>\n",
              "      <td>0</td>\n",
              "      <td>6</td>\n",
              "      <td>6</td>\n",
              "      <td>6.0</td>\n",
              "      <td>0.0</td>\n",
              "      <td>...</td>\n",
              "      <td>1.0</td>\n",
              "      <td>20.0</td>\n",
              "      <td>0.0</td>\n",
              "      <td>0.0</td>\n",
              "      <td>0.0</td>\n",
              "      <td>0.0</td>\n",
              "      <td>0.0</td>\n",
              "      <td>0.0</td>\n",
              "      <td>0.0</td>\n",
              "      <td>0.0</td>\n",
              "    </tr>\n",
              "    <tr>\n",
              "      <th>1</th>\n",
              "      <td>55054</td>\n",
              "      <td>109</td>\n",
              "      <td>1</td>\n",
              "      <td>1</td>\n",
              "      <td>6</td>\n",
              "      <td>6</td>\n",
              "      <td>6</td>\n",
              "      <td>6</td>\n",
              "      <td>6.0</td>\n",
              "      <td>0.0</td>\n",
              "      <td>...</td>\n",
              "      <td>0.0</td>\n",
              "      <td>20.0</td>\n",
              "      <td>0.0</td>\n",
              "      <td>0.0</td>\n",
              "      <td>0.0</td>\n",
              "      <td>0.0</td>\n",
              "      <td>0.0</td>\n",
              "      <td>0.0</td>\n",
              "      <td>0.0</td>\n",
              "      <td>0.0</td>\n",
              "    </tr>\n",
              "    <tr>\n",
              "      <th>2</th>\n",
              "      <td>55055</td>\n",
              "      <td>52</td>\n",
              "      <td>1</td>\n",
              "      <td>1</td>\n",
              "      <td>6</td>\n",
              "      <td>6</td>\n",
              "      <td>6</td>\n",
              "      <td>6</td>\n",
              "      <td>6.0</td>\n",
              "      <td>0.0</td>\n",
              "      <td>...</td>\n",
              "      <td>0.0</td>\n",
              "      <td>20.0</td>\n",
              "      <td>0.0</td>\n",
              "      <td>0.0</td>\n",
              "      <td>0.0</td>\n",
              "      <td>0.0</td>\n",
              "      <td>0.0</td>\n",
              "      <td>0.0</td>\n",
              "      <td>0.0</td>\n",
              "      <td>0.0</td>\n",
              "    </tr>\n",
              "    <tr>\n",
              "      <th>3</th>\n",
              "      <td>46236</td>\n",
              "      <td>34</td>\n",
              "      <td>1</td>\n",
              "      <td>1</td>\n",
              "      <td>6</td>\n",
              "      <td>6</td>\n",
              "      <td>6</td>\n",
              "      <td>6</td>\n",
              "      <td>6.0</td>\n",
              "      <td>0.0</td>\n",
              "      <td>...</td>\n",
              "      <td>0.0</td>\n",
              "      <td>20.0</td>\n",
              "      <td>0.0</td>\n",
              "      <td>0.0</td>\n",
              "      <td>0.0</td>\n",
              "      <td>0.0</td>\n",
              "      <td>0.0</td>\n",
              "      <td>0.0</td>\n",
              "      <td>0.0</td>\n",
              "      <td>0.0</td>\n",
              "    </tr>\n",
              "    <tr>\n",
              "      <th>4</th>\n",
              "      <td>54863</td>\n",
              "      <td>3</td>\n",
              "      <td>2</td>\n",
              "      <td>0</td>\n",
              "      <td>12</td>\n",
              "      <td>0</td>\n",
              "      <td>6</td>\n",
              "      <td>6</td>\n",
              "      <td>6.0</td>\n",
              "      <td>0.0</td>\n",
              "      <td>...</td>\n",
              "      <td>1.0</td>\n",
              "      <td>20.0</td>\n",
              "      <td>0.0</td>\n",
              "      <td>0.0</td>\n",
              "      <td>0.0</td>\n",
              "      <td>0.0</td>\n",
              "      <td>0.0</td>\n",
              "      <td>0.0</td>\n",
              "      <td>0.0</td>\n",
              "      <td>0.0</td>\n",
              "    </tr>\n",
              "  </tbody>\n",
              "</table>\n",
              "<p>5 rows × 78 columns</p>\n",
              "</div>\n",
              "      <button class=\"colab-df-convert\" onclick=\"convertToInteractive('df-8834dd5d-b6fa-4239-acd9-48e94021fdae')\"\n",
              "              title=\"Convert this dataframe to an interactive table.\"\n",
              "              style=\"display:none;\">\n",
              "        \n",
              "  <svg xmlns=\"http://www.w3.org/2000/svg\" height=\"24px\"viewBox=\"0 0 24 24\"\n",
              "       width=\"24px\">\n",
              "    <path d=\"M0 0h24v24H0V0z\" fill=\"none\"/>\n",
              "    <path d=\"M18.56 5.44l.94 2.06.94-2.06 2.06-.94-2.06-.94-.94-2.06-.94 2.06-2.06.94zm-11 1L8.5 8.5l.94-2.06 2.06-.94-2.06-.94L8.5 2.5l-.94 2.06-2.06.94zm10 10l.94 2.06.94-2.06 2.06-.94-2.06-.94-.94-2.06-.94 2.06-2.06.94z\"/><path d=\"M17.41 7.96l-1.37-1.37c-.4-.4-.92-.59-1.43-.59-.52 0-1.04.2-1.43.59L10.3 9.45l-7.72 7.72c-.78.78-.78 2.05 0 2.83L4 21.41c.39.39.9.59 1.41.59.51 0 1.02-.2 1.41-.59l7.78-7.78 2.81-2.81c.8-.78.8-2.07 0-2.86zM5.41 20L4 18.59l7.72-7.72 1.47 1.35L5.41 20z\"/>\n",
              "  </svg>\n",
              "      </button>\n",
              "      \n",
              "  <style>\n",
              "    .colab-df-container {\n",
              "      display:flex;\n",
              "      flex-wrap:wrap;\n",
              "      gap: 12px;\n",
              "    }\n",
              "\n",
              "    .colab-df-convert {\n",
              "      background-color: #E8F0FE;\n",
              "      border: none;\n",
              "      border-radius: 50%;\n",
              "      cursor: pointer;\n",
              "      display: none;\n",
              "      fill: #1967D2;\n",
              "      height: 32px;\n",
              "      padding: 0 0 0 0;\n",
              "      width: 32px;\n",
              "    }\n",
              "\n",
              "    .colab-df-convert:hover {\n",
              "      background-color: #E2EBFA;\n",
              "      box-shadow: 0px 1px 2px rgba(60, 64, 67, 0.3), 0px 1px 3px 1px rgba(60, 64, 67, 0.15);\n",
              "      fill: #174EA6;\n",
              "    }\n",
              "\n",
              "    [theme=dark] .colab-df-convert {\n",
              "      background-color: #3B4455;\n",
              "      fill: #D2E3FC;\n",
              "    }\n",
              "\n",
              "    [theme=dark] .colab-df-convert:hover {\n",
              "      background-color: #434B5C;\n",
              "      box-shadow: 0px 1px 3px 1px rgba(0, 0, 0, 0.15);\n",
              "      filter: drop-shadow(0px 1px 2px rgba(0, 0, 0, 0.3));\n",
              "      fill: #FFFFFF;\n",
              "    }\n",
              "  </style>\n",
              "\n",
              "      <script>\n",
              "        const buttonEl =\n",
              "          document.querySelector('#df-8834dd5d-b6fa-4239-acd9-48e94021fdae button.colab-df-convert');\n",
              "        buttonEl.style.display =\n",
              "          google.colab.kernel.accessAllowed ? 'block' : 'none';\n",
              "\n",
              "        async function convertToInteractive(key) {\n",
              "          const element = document.querySelector('#df-8834dd5d-b6fa-4239-acd9-48e94021fdae');\n",
              "          const dataTable =\n",
              "            await google.colab.kernel.invokeFunction('convertToInteractive',\n",
              "                                                     [key], {});\n",
              "          if (!dataTable) return;\n",
              "\n",
              "          const docLinkHtml = 'Like what you see? Visit the ' +\n",
              "            '<a target=\"_blank\" href=https://colab.research.google.com/notebooks/data_table.ipynb>data table notebook</a>'\n",
              "            + ' to learn more about interactive tables.';\n",
              "          element.innerHTML = '';\n",
              "          dataTable['output_type'] = 'display_data';\n",
              "          await google.colab.output.renderOutput(dataTable, element);\n",
              "          const docLink = document.createElement('div');\n",
              "          docLink.innerHTML = docLinkHtml;\n",
              "          element.appendChild(docLink);\n",
              "        }\n",
              "      </script>\n",
              "    </div>\n",
              "  </div>\n",
              "  "
            ]
          },
          "metadata": {},
          "execution_count": 41
        }
      ]
    },
    {
      "cell_type": "code",
      "source": [
        "\n",
        "# Compute the correlation matrix\n",
        "correlation_matrix = df.corr().abs()\n",
        "\n",
        "# Set the threshold for correlation\n",
        "threshold = 0.8  # Adjust the threshold value as desired\n",
        "\n",
        "# Find the highly correlated features\n",
        "highly_correlated_features = np.where(correlation_matrix > threshold)\n",
        "\n",
        "# Get the unique feature pairs\n",
        "feature_pairs = [(df.columns[x], df.columns[y]) for x, y in zip(*highly_correlated_features) if x != y and x < y]\n",
        "\n",
        "# Create a new dataframe with the highly correlated features and label dataset\n",
        "new_df = df[list(set(df.columns) - set([y for x, y in feature_pairs]))]\n",
        "\n",
        "# Print the new dataframe\n",
        "print(new_df.head())\n"
      ],
      "metadata": {
        "colab": {
          "base_uri": "https://localhost:8080/"
        },
        "id": "eHSygnwtzf4G",
        "outputId": "7b0bcf26-13d8-4263-bca2-b3e074b7f788"
      },
      "execution_count": 11,
      "outputs": [
        {
          "output_type": "stream",
          "name": "stderr",
          "text": [
            "<ipython-input-11-5d47f39beb73>:2: FutureWarning: The default value of numeric_only in DataFrame.corr is deprecated. In a future version, it will default to False. Select only valid columns or specify the value of numeric_only to silence this warning.\n",
            "  correlation_matrix = df.corr().abs()\n"
          ]
        },
        {
          "output_type": "stream",
          "name": "stdout",
          "text": [
            "   Bwd Avg Bulk Rate  Init_Win_bytes_forward  Flow Packets/s  \\\n",
            "0                0.0                    33.0    666666.66670   \n",
            "1                0.0                    29.0     18348.62385   \n",
            "2                0.0                    29.0     38461.53846   \n",
            "3                0.0                    31.0     58823.52941   \n",
            "4                0.0                    32.0    666666.66670   \n",
            "\n",
            "   Fwd Avg Bytes/Bulk  Flow Duration  Init_Win_bytes_backward  PSH Flag Count  \\\n",
            "0                 0.0              3                     -1.0             0.0   \n",
            "1                 0.0            109                    256.0             0.0   \n",
            "2                 0.0             52                    256.0             0.0   \n",
            "3                 0.0             34                    329.0             0.0   \n",
            "4                 0.0              3                     -1.0             0.0   \n",
            "\n",
            "   Down/Up Ratio  CWE Flag Count  RST Flag Count  ...  Active Std  \\\n",
            "0            0.0             0.0             0.0  ...         0.0   \n",
            "1            1.0             0.0             0.0  ...         0.0   \n",
            "2            1.0             0.0             0.0  ...         0.0   \n",
            "3            1.0             0.0             0.0  ...         0.0   \n",
            "4            0.0             0.0             0.0  ...         0.0   \n",
            "\n",
            "   Bwd Packets/s   Label  Bwd PSH Flags  Idle Std  Bwd Packet Length Min  \\\n",
            "0       0.000000  BENIGN              0       0.0                      0   \n",
            "1    9174.311927  BENIGN              0       0.0                      6   \n",
            "2   19230.769230  BENIGN              0       0.0                      6   \n",
            "3   29411.764710  BENIGN              0       0.0                      6   \n",
            "4       0.000000  BENIGN              0       0.0                      0   \n",
            "\n",
            "   Fwd Avg Bulk Rate  Total Fwd Packets  Bwd URG Flags  Fwd Packet Length Min  \n",
            "0                0.0                  2            0.0                      6  \n",
            "1                0.0                  1            0.0                      6  \n",
            "2                0.0                  1            0.0                      6  \n",
            "3                0.0                  1            0.0                      6  \n",
            "4                0.0                  2            0.0                      6  \n",
            "\n",
            "[5 rows x 40 columns]\n"
          ]
        }
      ]
    },
    {
      "cell_type": "code",
      "source": [
        "feature_pairs"
      ],
      "metadata": {
        "colab": {
          "base_uri": "https://localhost:8080/"
        },
        "id": "Fu5D5hWB1dcY",
        "outputId": "c4855ce3-776e-4067-a5d9-c80bb2ba3ec5"
      },
      "execution_count": 51,
      "outputs": [
        {
          "output_type": "execute_result",
          "data": {
            "text/plain": [
              "[('Flow Duration', 'Flow IAT Max'),\n",
              " ('Flow Duration', 'Fwd IAT Total'),\n",
              " ('Flow Duration', 'Fwd IAT Max'),\n",
              " ('Flow Duration', 'Idle Max'),\n",
              " ('Total Fwd Packets', 'Total Backward Packets'),\n",
              " ('Total Fwd Packets', 'Total Length of Bwd Packets'),\n",
              " ('Total Fwd Packets', 'Fwd Header Length'),\n",
              " ('Total Fwd Packets', 'Bwd Header Length'),\n",
              " ('Total Fwd Packets', 'Fwd Header Length.1'),\n",
              " ('Total Fwd Packets', 'Subflow Fwd Packets'),\n",
              " ('Total Fwd Packets', 'Subflow Bwd Packets'),\n",
              " ('Total Fwd Packets', 'Subflow Bwd Bytes'),\n",
              " ('Total Fwd Packets', 'act_data_pkt_fwd'),\n",
              " ('Total Backward Packets', 'Total Length of Bwd Packets'),\n",
              " ('Total Backward Packets', 'Fwd Header Length'),\n",
              " ('Total Backward Packets', 'Bwd Header Length'),\n",
              " ('Total Backward Packets', 'Fwd Header Length.1'),\n",
              " ('Total Backward Packets', 'Subflow Fwd Packets'),\n",
              " ('Total Backward Packets', 'Subflow Bwd Packets'),\n",
              " ('Total Backward Packets', 'Subflow Bwd Bytes'),\n",
              " ('Total Backward Packets', 'act_data_pkt_fwd'),\n",
              " ('Total Length of Fwd Packets', 'Subflow Fwd Bytes'),\n",
              " ('Total Length of Bwd Packets', 'Fwd Header Length'),\n",
              " ('Total Length of Bwd Packets', 'Bwd Header Length'),\n",
              " ('Total Length of Bwd Packets', 'Fwd Header Length.1'),\n",
              " ('Total Length of Bwd Packets', 'Subflow Fwd Packets'),\n",
              " ('Total Length of Bwd Packets', 'Subflow Bwd Packets'),\n",
              " ('Total Length of Bwd Packets', 'Subflow Bwd Bytes'),\n",
              " ('Total Length of Bwd Packets', 'act_data_pkt_fwd'),\n",
              " ('Fwd Packet Length Max', 'Fwd Packet Length Mean'),\n",
              " ('Fwd Packet Length Max', 'Fwd Packet Length Std'),\n",
              " ('Fwd Packet Length Max', 'Avg Fwd Segment Size'),\n",
              " ('Fwd Packet Length Mean', 'Fwd Packet Length Std'),\n",
              " ('Fwd Packet Length Mean', 'Avg Fwd Segment Size'),\n",
              " ('Fwd Packet Length Std', 'Avg Fwd Segment Size'),\n",
              " ('Bwd Packet Length Max', 'Bwd Packet Length Mean'),\n",
              " ('Bwd Packet Length Max', 'Bwd Packet Length Std'),\n",
              " ('Bwd Packet Length Max', 'Max Packet Length'),\n",
              " ('Bwd Packet Length Max', 'Packet Length Mean'),\n",
              " ('Bwd Packet Length Max', 'Packet Length Std'),\n",
              " ('Bwd Packet Length Max', 'Packet Length Variance'),\n",
              " ('Bwd Packet Length Max', 'Average Packet Size'),\n",
              " ('Bwd Packet Length Max', 'Avg Bwd Segment Size'),\n",
              " ('Bwd Packet Length Mean', 'Bwd Packet Length Std'),\n",
              " ('Bwd Packet Length Mean', 'Max Packet Length'),\n",
              " ('Bwd Packet Length Mean', 'Packet Length Mean'),\n",
              " ('Bwd Packet Length Mean', 'Packet Length Std'),\n",
              " ('Bwd Packet Length Mean', 'Packet Length Variance'),\n",
              " ('Bwd Packet Length Mean', 'Average Packet Size'),\n",
              " ('Bwd Packet Length Mean', 'Avg Bwd Segment Size'),\n",
              " ('Bwd Packet Length Std', 'Max Packet Length'),\n",
              " ('Bwd Packet Length Std', 'Packet Length Mean'),\n",
              " ('Bwd Packet Length Std', 'Packet Length Std'),\n",
              " ('Bwd Packet Length Std', 'Packet Length Variance'),\n",
              " ('Bwd Packet Length Std', 'Average Packet Size'),\n",
              " ('Bwd Packet Length Std', 'Avg Bwd Segment Size'),\n",
              " ('Flow Packets/s', 'Fwd Packets/s'),\n",
              " ('Flow IAT Mean', 'Flow IAT Std'),\n",
              " ('Flow IAT Mean', 'Fwd IAT Mean'),\n",
              " ('Flow IAT Std', 'Flow IAT Max'),\n",
              " ('Flow IAT Std', 'Fwd IAT Mean'),\n",
              " ('Flow IAT Std', 'Fwd IAT Std'),\n",
              " ('Flow IAT Std', 'Fwd IAT Max'),\n",
              " ('Flow IAT Std', 'Idle Mean'),\n",
              " ('Flow IAT Std', 'Idle Max'),\n",
              " ('Flow IAT Max', 'Fwd IAT Total'),\n",
              " ('Flow IAT Max', 'Fwd IAT Std'),\n",
              " ('Flow IAT Max', 'Fwd IAT Max'),\n",
              " ('Flow IAT Max', 'Idle Mean'),\n",
              " ('Flow IAT Max', 'Idle Max'),\n",
              " ('Fwd IAT Total', 'Fwd IAT Max'),\n",
              " ('Fwd IAT Total', 'Idle Max'),\n",
              " ('Fwd IAT Mean', 'Fwd IAT Min'),\n",
              " ('Fwd IAT Mean', 'Bwd IAT Mean'),\n",
              " ('Fwd IAT Mean', 'Bwd IAT Min'),\n",
              " ('Fwd IAT Std', 'Fwd IAT Max'),\n",
              " ('Fwd IAT Std', 'Idle Mean'),\n",
              " ('Fwd IAT Std', 'Idle Max'),\n",
              " ('Fwd IAT Max', 'Idle Mean'),\n",
              " ('Fwd IAT Max', 'Idle Max'),\n",
              " ('Fwd IAT Min', 'Bwd IAT Mean'),\n",
              " ('Fwd IAT Min', 'Bwd IAT Min'),\n",
              " ('Bwd IAT Mean', 'Bwd IAT Min'),\n",
              " ('Bwd IAT Std', 'Bwd IAT Max'),\n",
              " ('Fwd PSH Flags', 'SYN Flag Count'),\n",
              " ('Fwd Header Length', 'Bwd Header Length'),\n",
              " ('Fwd Header Length', 'Fwd Header Length.1'),\n",
              " ('Fwd Header Length', 'Subflow Fwd Packets'),\n",
              " ('Fwd Header Length', 'Subflow Bwd Packets'),\n",
              " ('Fwd Header Length', 'Subflow Bwd Bytes'),\n",
              " ('Fwd Header Length', 'act_data_pkt_fwd'),\n",
              " ('Bwd Header Length', 'Fwd Header Length.1'),\n",
              " ('Bwd Header Length', 'Subflow Fwd Packets'),\n",
              " ('Bwd Header Length', 'Subflow Bwd Packets'),\n",
              " ('Bwd Header Length', 'Subflow Bwd Bytes'),\n",
              " ('Bwd Header Length', 'act_data_pkt_fwd'),\n",
              " ('Max Packet Length', 'Packet Length Mean'),\n",
              " ('Max Packet Length', 'Packet Length Std'),\n",
              " ('Max Packet Length', 'Packet Length Variance'),\n",
              " ('Max Packet Length', 'Average Packet Size'),\n",
              " ('Max Packet Length', 'Avg Bwd Segment Size'),\n",
              " ('Packet Length Mean', 'Packet Length Std'),\n",
              " ('Packet Length Mean', 'Packet Length Variance'),\n",
              " ('Packet Length Mean', 'Average Packet Size'),\n",
              " ('Packet Length Mean', 'Avg Bwd Segment Size'),\n",
              " ('Packet Length Std', 'Packet Length Variance'),\n",
              " ('Packet Length Std', 'Average Packet Size'),\n",
              " ('Packet Length Std', 'Avg Bwd Segment Size'),\n",
              " ('Packet Length Variance', 'Average Packet Size'),\n",
              " ('Packet Length Variance', 'Avg Bwd Segment Size'),\n",
              " ('RST Flag Count', 'ECE Flag Count'),\n",
              " ('Average Packet Size', 'Avg Bwd Segment Size'),\n",
              " ('Fwd Header Length.1', 'Subflow Fwd Packets'),\n",
              " ('Fwd Header Length.1', 'Subflow Bwd Packets'),\n",
              " ('Fwd Header Length.1', 'Subflow Bwd Bytes'),\n",
              " ('Fwd Header Length.1', 'act_data_pkt_fwd'),\n",
              " ('Subflow Fwd Packets', 'Subflow Bwd Packets'),\n",
              " ('Subflow Fwd Packets', 'Subflow Bwd Bytes'),\n",
              " ('Subflow Fwd Packets', 'act_data_pkt_fwd'),\n",
              " ('Subflow Bwd Packets', 'Subflow Bwd Bytes'),\n",
              " ('Subflow Bwd Packets', 'act_data_pkt_fwd'),\n",
              " ('Subflow Bwd Bytes', 'act_data_pkt_fwd'),\n",
              " ('Active Mean', 'Active Max'),\n",
              " ('Active Mean', 'Active Min'),\n",
              " ('Idle Mean', 'Idle Max'),\n",
              " ('Idle Mean', 'Idle Min')]"
            ]
          },
          "metadata": {},
          "execution_count": 51
        }
      ]
    },
    {
      "cell_type": "code",
      "source": [
        "new_df.head()"
      ],
      "metadata": {
        "colab": {
          "base_uri": "https://localhost:8080/",
          "height": 352
        },
        "id": "At5-gOry2V6F",
        "outputId": "ab7ec5c1-dc8c-44db-db3f-e6a17f057988"
      },
      "execution_count": 60,
      "outputs": [
        {
          "output_type": "execute_result",
          "data": {
            "text/plain": [
              "   PSH Flag Count  Flow Packets/s  Fwd Packet Length Max  \\\n",
              "0             0.0    666666.66670                      6   \n",
              "1             0.0     18348.62385                      6   \n",
              "2             0.0     38461.53846                      6   \n",
              "3             0.0     58823.52941                      6   \n",
              "4             0.0    666666.66670                      6   \n",
              "\n",
              "   Init_Win_bytes_forward  Fwd Avg Bulk Rate  Bwd Avg Packets/Bulk  \\\n",
              "0                    33.0                0.0                   0.0   \n",
              "1                    29.0                0.0                   0.0   \n",
              "2                    29.0                0.0                   0.0   \n",
              "3                    31.0                0.0                   0.0   \n",
              "4                    32.0                0.0                   0.0   \n",
              "\n",
              "   URG Flag Count  Destination Port  Bwd IAT Std  Flow Duration  ...  \\\n",
              "0             0.0             54865          0.0              3  ...   \n",
              "1             1.0             55054          0.0            109  ...   \n",
              "2             1.0             55055          0.0             52  ...   \n",
              "3             1.0             46236          0.0             34  ...   \n",
              "4             0.0             54863          0.0              3  ...   \n",
              "\n",
              "   Bwd Avg Bytes/Bulk  Total Length of Fwd Packets  Idle Std  Active Std  \\\n",
              "0                 0.0                           12       0.0         0.0   \n",
              "1                 0.0                            6       0.0         0.0   \n",
              "2                 0.0                            6       0.0         0.0   \n",
              "3                 0.0                            6       0.0         0.0   \n",
              "4                 0.0                           12       0.0         0.0   \n",
              "\n",
              "   Min Packet Length  Fwd URG Flags  Active Mean  min_seg_size_forward  \\\n",
              "0                6.0            0.0          0.0                  20.0   \n",
              "1                6.0            0.0          0.0                  20.0   \n",
              "2                6.0            0.0          0.0                  20.0   \n",
              "3                6.0            0.0          0.0                  20.0   \n",
              "4                6.0            0.0          0.0                  20.0   \n",
              "\n",
              "   Bwd Packet Length Min  Bwd Avg Bulk Rate  \n",
              "0                      0                0.0  \n",
              "1                      6                0.0  \n",
              "2                      6                0.0  \n",
              "3                      6                0.0  \n",
              "4                      0                0.0  \n",
              "\n",
              "[5 rows x 40 columns]"
            ],
            "text/html": [
              "\n",
              "  <div id=\"df-75e81104-3e6e-48ca-855d-f7eddb7836db\">\n",
              "    <div class=\"colab-df-container\">\n",
              "      <div>\n",
              "<style scoped>\n",
              "    .dataframe tbody tr th:only-of-type {\n",
              "        vertical-align: middle;\n",
              "    }\n",
              "\n",
              "    .dataframe tbody tr th {\n",
              "        vertical-align: top;\n",
              "    }\n",
              "\n",
              "    .dataframe thead th {\n",
              "        text-align: right;\n",
              "    }\n",
              "</style>\n",
              "<table border=\"1\" class=\"dataframe\">\n",
              "  <thead>\n",
              "    <tr style=\"text-align: right;\">\n",
              "      <th></th>\n",
              "      <th>PSH Flag Count</th>\n",
              "      <th>Flow Packets/s</th>\n",
              "      <th>Fwd Packet Length Max</th>\n",
              "      <th>Init_Win_bytes_forward</th>\n",
              "      <th>Fwd Avg Bulk Rate</th>\n",
              "      <th>Bwd Avg Packets/Bulk</th>\n",
              "      <th>URG Flag Count</th>\n",
              "      <th>Destination Port</th>\n",
              "      <th>Bwd IAT Std</th>\n",
              "      <th>Flow Duration</th>\n",
              "      <th>...</th>\n",
              "      <th>Bwd Avg Bytes/Bulk</th>\n",
              "      <th>Total Length of Fwd Packets</th>\n",
              "      <th>Idle Std</th>\n",
              "      <th>Active Std</th>\n",
              "      <th>Min Packet Length</th>\n",
              "      <th>Fwd URG Flags</th>\n",
              "      <th>Active Mean</th>\n",
              "      <th>min_seg_size_forward</th>\n",
              "      <th>Bwd Packet Length Min</th>\n",
              "      <th>Bwd Avg Bulk Rate</th>\n",
              "    </tr>\n",
              "  </thead>\n",
              "  <tbody>\n",
              "    <tr>\n",
              "      <th>0</th>\n",
              "      <td>0.0</td>\n",
              "      <td>666666.66670</td>\n",
              "      <td>6</td>\n",
              "      <td>33.0</td>\n",
              "      <td>0.0</td>\n",
              "      <td>0.0</td>\n",
              "      <td>0.0</td>\n",
              "      <td>54865</td>\n",
              "      <td>0.0</td>\n",
              "      <td>3</td>\n",
              "      <td>...</td>\n",
              "      <td>0.0</td>\n",
              "      <td>12</td>\n",
              "      <td>0.0</td>\n",
              "      <td>0.0</td>\n",
              "      <td>6.0</td>\n",
              "      <td>0.0</td>\n",
              "      <td>0.0</td>\n",
              "      <td>20.0</td>\n",
              "      <td>0</td>\n",
              "      <td>0.0</td>\n",
              "    </tr>\n",
              "    <tr>\n",
              "      <th>1</th>\n",
              "      <td>0.0</td>\n",
              "      <td>18348.62385</td>\n",
              "      <td>6</td>\n",
              "      <td>29.0</td>\n",
              "      <td>0.0</td>\n",
              "      <td>0.0</td>\n",
              "      <td>1.0</td>\n",
              "      <td>55054</td>\n",
              "      <td>0.0</td>\n",
              "      <td>109</td>\n",
              "      <td>...</td>\n",
              "      <td>0.0</td>\n",
              "      <td>6</td>\n",
              "      <td>0.0</td>\n",
              "      <td>0.0</td>\n",
              "      <td>6.0</td>\n",
              "      <td>0.0</td>\n",
              "      <td>0.0</td>\n",
              "      <td>20.0</td>\n",
              "      <td>6</td>\n",
              "      <td>0.0</td>\n",
              "    </tr>\n",
              "    <tr>\n",
              "      <th>2</th>\n",
              "      <td>0.0</td>\n",
              "      <td>38461.53846</td>\n",
              "      <td>6</td>\n",
              "      <td>29.0</td>\n",
              "      <td>0.0</td>\n",
              "      <td>0.0</td>\n",
              "      <td>1.0</td>\n",
              "      <td>55055</td>\n",
              "      <td>0.0</td>\n",
              "      <td>52</td>\n",
              "      <td>...</td>\n",
              "      <td>0.0</td>\n",
              "      <td>6</td>\n",
              "      <td>0.0</td>\n",
              "      <td>0.0</td>\n",
              "      <td>6.0</td>\n",
              "      <td>0.0</td>\n",
              "      <td>0.0</td>\n",
              "      <td>20.0</td>\n",
              "      <td>6</td>\n",
              "      <td>0.0</td>\n",
              "    </tr>\n",
              "    <tr>\n",
              "      <th>3</th>\n",
              "      <td>0.0</td>\n",
              "      <td>58823.52941</td>\n",
              "      <td>6</td>\n",
              "      <td>31.0</td>\n",
              "      <td>0.0</td>\n",
              "      <td>0.0</td>\n",
              "      <td>1.0</td>\n",
              "      <td>46236</td>\n",
              "      <td>0.0</td>\n",
              "      <td>34</td>\n",
              "      <td>...</td>\n",
              "      <td>0.0</td>\n",
              "      <td>6</td>\n",
              "      <td>0.0</td>\n",
              "      <td>0.0</td>\n",
              "      <td>6.0</td>\n",
              "      <td>0.0</td>\n",
              "      <td>0.0</td>\n",
              "      <td>20.0</td>\n",
              "      <td>6</td>\n",
              "      <td>0.0</td>\n",
              "    </tr>\n",
              "    <tr>\n",
              "      <th>4</th>\n",
              "      <td>0.0</td>\n",
              "      <td>666666.66670</td>\n",
              "      <td>6</td>\n",
              "      <td>32.0</td>\n",
              "      <td>0.0</td>\n",
              "      <td>0.0</td>\n",
              "      <td>0.0</td>\n",
              "      <td>54863</td>\n",
              "      <td>0.0</td>\n",
              "      <td>3</td>\n",
              "      <td>...</td>\n",
              "      <td>0.0</td>\n",
              "      <td>12</td>\n",
              "      <td>0.0</td>\n",
              "      <td>0.0</td>\n",
              "      <td>6.0</td>\n",
              "      <td>0.0</td>\n",
              "      <td>0.0</td>\n",
              "      <td>20.0</td>\n",
              "      <td>0</td>\n",
              "      <td>0.0</td>\n",
              "    </tr>\n",
              "  </tbody>\n",
              "</table>\n",
              "<p>5 rows × 40 columns</p>\n",
              "</div>\n",
              "      <button class=\"colab-df-convert\" onclick=\"convertToInteractive('df-75e81104-3e6e-48ca-855d-f7eddb7836db')\"\n",
              "              title=\"Convert this dataframe to an interactive table.\"\n",
              "              style=\"display:none;\">\n",
              "        \n",
              "  <svg xmlns=\"http://www.w3.org/2000/svg\" height=\"24px\"viewBox=\"0 0 24 24\"\n",
              "       width=\"24px\">\n",
              "    <path d=\"M0 0h24v24H0V0z\" fill=\"none\"/>\n",
              "    <path d=\"M18.56 5.44l.94 2.06.94-2.06 2.06-.94-2.06-.94-.94-2.06-.94 2.06-2.06.94zm-11 1L8.5 8.5l.94-2.06 2.06-.94-2.06-.94L8.5 2.5l-.94 2.06-2.06.94zm10 10l.94 2.06.94-2.06 2.06-.94-2.06-.94-.94-2.06-.94 2.06-2.06.94z\"/><path d=\"M17.41 7.96l-1.37-1.37c-.4-.4-.92-.59-1.43-.59-.52 0-1.04.2-1.43.59L10.3 9.45l-7.72 7.72c-.78.78-.78 2.05 0 2.83L4 21.41c.39.39.9.59 1.41.59.51 0 1.02-.2 1.41-.59l7.78-7.78 2.81-2.81c.8-.78.8-2.07 0-2.86zM5.41 20L4 18.59l7.72-7.72 1.47 1.35L5.41 20z\"/>\n",
              "  </svg>\n",
              "      </button>\n",
              "      \n",
              "  <style>\n",
              "    .colab-df-container {\n",
              "      display:flex;\n",
              "      flex-wrap:wrap;\n",
              "      gap: 12px;\n",
              "    }\n",
              "\n",
              "    .colab-df-convert {\n",
              "      background-color: #E8F0FE;\n",
              "      border: none;\n",
              "      border-radius: 50%;\n",
              "      cursor: pointer;\n",
              "      display: none;\n",
              "      fill: #1967D2;\n",
              "      height: 32px;\n",
              "      padding: 0 0 0 0;\n",
              "      width: 32px;\n",
              "    }\n",
              "\n",
              "    .colab-df-convert:hover {\n",
              "      background-color: #E2EBFA;\n",
              "      box-shadow: 0px 1px 2px rgba(60, 64, 67, 0.3), 0px 1px 3px 1px rgba(60, 64, 67, 0.15);\n",
              "      fill: #174EA6;\n",
              "    }\n",
              "\n",
              "    [theme=dark] .colab-df-convert {\n",
              "      background-color: #3B4455;\n",
              "      fill: #D2E3FC;\n",
              "    }\n",
              "\n",
              "    [theme=dark] .colab-df-convert:hover {\n",
              "      background-color: #434B5C;\n",
              "      box-shadow: 0px 1px 3px 1px rgba(0, 0, 0, 0.15);\n",
              "      filter: drop-shadow(0px 1px 2px rgba(0, 0, 0, 0.3));\n",
              "      fill: #FFFFFF;\n",
              "    }\n",
              "  </style>\n",
              "\n",
              "      <script>\n",
              "        const buttonEl =\n",
              "          document.querySelector('#df-75e81104-3e6e-48ca-855d-f7eddb7836db button.colab-df-convert');\n",
              "        buttonEl.style.display =\n",
              "          google.colab.kernel.accessAllowed ? 'block' : 'none';\n",
              "\n",
              "        async function convertToInteractive(key) {\n",
              "          const element = document.querySelector('#df-75e81104-3e6e-48ca-855d-f7eddb7836db');\n",
              "          const dataTable =\n",
              "            await google.colab.kernel.invokeFunction('convertToInteractive',\n",
              "                                                     [key], {});\n",
              "          if (!dataTable) return;\n",
              "\n",
              "          const docLinkHtml = 'Like what you see? Visit the ' +\n",
              "            '<a target=\"_blank\" href=https://colab.research.google.com/notebooks/data_table.ipynb>data table notebook</a>'\n",
              "            + ' to learn more about interactive tables.';\n",
              "          element.innerHTML = '';\n",
              "          dataTable['output_type'] = 'display_data';\n",
              "          await google.colab.output.renderOutput(dataTable, element);\n",
              "          const docLink = document.createElement('div');\n",
              "          docLink.innerHTML = docLinkHtml;\n",
              "          element.appendChild(docLink);\n",
              "        }\n",
              "      </script>\n",
              "    </div>\n",
              "  </div>\n",
              "  "
            ]
          },
          "metadata": {},
          "execution_count": 60
        }
      ]
    },
    {
      "cell_type": "code",
      "execution_count": 12,
      "metadata": {
        "id": "ISWsKSorbC7s"
      },
      "outputs": [],
      "source": [
        "classes = new_df['Label'].copy()\n",
        "features = new_df.drop(['Label'], axis=1)\n",
        "\n",
        "# Encode the class labels\n",
        "label_encoder = LabelEncoder()\n",
        "encoded_classes = label_encoder.fit_transform(classes)\n",
        "\n",
        "x_train, x_test, y_train, y_test = train_test_split(features,encoded_classes , test_size=0.2, random_state=40)"
      ]
    },
    {
      "cell_type": "code",
      "source": [
        "print(x_train.shape, x_test.shape, y_train.shape, y_test.shape)"
      ],
      "metadata": {
        "colab": {
          "base_uri": "https://localhost:8080/"
        },
        "id": "60LH79f-xH-d",
        "outputId": "fef6ffae-f210-4962-c918-df391428da2e"
      },
      "execution_count": 13,
      "outputs": [
        {
          "output_type": "stream",
          "name": "stdout",
          "text": [
            "(420040, 39) (105010, 39) (420040,) (105010,)\n"
          ]
        }
      ]
    },
    {
      "cell_type": "code",
      "source": [
        "x_train"
      ],
      "metadata": {
        "colab": {
          "base_uri": "https://localhost:8080/"
        },
        "id": "b0JkVxRc-Vhc",
        "outputId": "09f40e1d-398f-4e2c-bf6c-8fcb2a9789a7"
      },
      "execution_count": 16,
      "outputs": [
        {
          "output_type": "execute_result",
          "data": {
            "text/plain": [
              "array([[ 0.        , -0.62552915, -0.25022434, ...,  0.00840025,\n",
              "         0.        , -0.16757888],\n",
              "       [ 0.        , -0.62080808, -0.24989545, ..., -0.0092991 ,\n",
              "         0.        , -0.16757888],\n",
              "       [ 0.        ,  0.00989455, -0.2501323 , ..., -0.00536591,\n",
              "         0.        , -0.16757888],\n",
              "       ...,\n",
              "       [ 0.        ,  0.00989455, -0.25018099, ..., -0.00536591,\n",
              "         0.        , -0.16757888],\n",
              "       [ 0.        , -0.62512906, -0.25022265, ..., -0.00339931,\n",
              "         0.        , -0.11300009],\n",
              "       [ 0.        , -0.56367516,  0.00143074, ..., -0.0092991 ,\n",
              "         0.        , -0.14938595]])"
            ]
          },
          "metadata": {},
          "execution_count": 16
        }
      ]
    },
    {
      "cell_type": "code",
      "source": [
        "classes"
      ],
      "metadata": {
        "colab": {
          "base_uri": "https://localhost:8080/"
        },
        "id": "_bvQU3s12fVB",
        "outputId": "16ed994d-9991-4d49-b244-86e089935780"
      },
      "execution_count": 62,
      "outputs": [
        {
          "output_type": "execute_result",
          "data": {
            "text/plain": [
              "0         BENIGN\n",
              "1         BENIGN\n",
              "2         BENIGN\n",
              "3         BENIGN\n",
              "4         BENIGN\n",
              "           ...  \n",
              "525460    BENIGN\n",
              "525461    BENIGN\n",
              "525462    BENIGN\n",
              "525463    BENIGN\n",
              "525464    BENIGN\n",
              "Name: Label, Length: 525050, dtype: object"
            ]
          },
          "metadata": {},
          "execution_count": 62
        }
      ]
    },
    {
      "cell_type": "code",
      "source": [
        "from sklearn.preprocessing import OrdinalEncoder, StandardScaler\n",
        "scaler=StandardScaler()\n",
        "x_train = scaler.fit_transform(x_train)\n",
        "x_test = scaler.transform(x_test)"
      ],
      "metadata": {
        "id": "Q2M45qtqxoVj"
      },
      "execution_count": 15,
      "outputs": []
    },
    {
      "cell_type": "code",
      "source": [
        "y_train"
      ],
      "metadata": {
        "colab": {
          "base_uri": "https://localhost:8080/"
        },
        "id": "mCoDYPztxqD3",
        "outputId": "a88b8f1f-3912-4716-f9c7-abc7762ed5e8"
      },
      "execution_count": 64,
      "outputs": [
        {
          "output_type": "execute_result",
          "data": {
            "text/plain": [
              "array([0, 0, 1, ..., 1, 1, 2])"
            ]
          },
          "metadata": {},
          "execution_count": 64
        }
      ]
    },
    {
      "cell_type": "code",
      "source": [
        "\n",
        "\n",
        "# Step 3: Building DNDF\n",
        "# Step 3.1: Train a deep neural network as the backbone\n",
        "model = Sequential()\n",
        "model.add(Dense(256, activation='relu', input_dim=x_train.shape[1]))\n",
        "model.add(Dense(64, activation='relu'))\n",
        "model.add(Dense(32, activation='relu'))\n",
        "model.add(Dense(3, activation='softmax'))  \n",
        "\n",
        "\n"
      ],
      "metadata": {
        "id": "cgEGdk8uwOVN"
      },
      "execution_count": 65,
      "outputs": []
    },
    {
      "cell_type": "code",
      "source": [
        "model.compile(loss='sparse_categorical_crossentropy', optimizer='adam', metrics=['accuracy'])\n",
        "\n",
        "# Train the model\n",
        "history=model.fit(x_train, y_train, epochs=10, validation_data=(x_test, y_test))"
      ],
      "metadata": {
        "colab": {
          "base_uri": "https://localhost:8080/"
        },
        "id": "jL-5hDPuy9Ub",
        "outputId": "164649f7-8fdc-4ce4-9ab8-57907b81e194"
      },
      "execution_count": 72,
      "outputs": [
        {
          "output_type": "stream",
          "name": "stdout",
          "text": [
            "Epoch 1/10\n",
            "13127/13127 [==============================] - 51s 4ms/step - loss: 0.0040 - accuracy: 0.9992 - val_loss: 0.0050 - val_accuracy: 0.9993\n",
            "Epoch 2/10\n",
            "13127/13127 [==============================] - 48s 4ms/step - loss: 0.0035 - accuracy: 0.9992 - val_loss: 0.0277 - val_accuracy: 0.9931\n",
            "Epoch 3/10\n",
            "13127/13127 [==============================] - 46s 4ms/step - loss: 0.0035 - accuracy: 0.9992 - val_loss: 0.0052 - val_accuracy: 0.9990\n",
            "Epoch 4/10\n",
            "13127/13127 [==============================] - 48s 4ms/step - loss: 0.0035 - accuracy: 0.9992 - val_loss: 0.0019 - val_accuracy: 0.9996\n",
            "Epoch 5/10\n",
            "13127/13127 [==============================] - 48s 4ms/step - loss: 0.0030 - accuracy: 0.9992 - val_loss: 0.0054 - val_accuracy: 0.9994\n",
            "Epoch 6/10\n",
            "13127/13127 [==============================] - 46s 4ms/step - loss: 0.0032 - accuracy: 0.9992 - val_loss: 0.0030 - val_accuracy: 0.9993\n",
            "Epoch 7/10\n",
            "13127/13127 [==============================] - 51s 4ms/step - loss: 0.0034 - accuracy: 0.9993 - val_loss: 0.0030 - val_accuracy: 0.9995\n",
            "Epoch 8/10\n",
            "13127/13127 [==============================] - 48s 4ms/step - loss: 0.0033 - accuracy: 0.9993 - val_loss: 0.0071 - val_accuracy: 0.9979\n",
            "Epoch 9/10\n",
            "13127/13127 [==============================] - 49s 4ms/step - loss: 0.0025 - accuracy: 0.9994 - val_loss: 0.0028 - val_accuracy: 0.9993\n",
            "Epoch 10/10\n",
            "13127/13127 [==============================] - 51s 4ms/step - loss: 0.0033 - accuracy: 0.9993 - val_loss: 0.0035 - val_accuracy: 0.9993\n"
          ]
        }
      ]
    },
    {
      "cell_type": "code",
      "source": [],
      "metadata": {
        "id": "pI7BFK9azEdX"
      },
      "execution_count": null,
      "outputs": []
    },
    {
      "cell_type": "code",
      "source": [
        "# Step 3.2: Extract learned features from the last hidden layer\n",
        "feature_extractor = Sequential(model.layers[:-1])\n",
        "X_train_features = feature_extractor.predict(x_train)\n",
        "X_test_features = feature_extractor.predict(x_test)"
      ],
      "metadata": {
        "colab": {
          "base_uri": "https://localhost:8080/"
        },
        "id": "1RkLlwM_zBdH",
        "outputId": "91c330f0-57ea-4f89-c28f-59e9dbda294b"
      },
      "execution_count": 68,
      "outputs": [
        {
          "output_type": "stream",
          "name": "stdout",
          "text": [
            "13127/13127 [==============================] - 22s 2ms/step\n",
            "3282/3282 [==============================] - 5s 2ms/step\n"
          ]
        }
      ]
    },
    {
      "cell_type": "code",
      "source": [
        "# Step 4: Decision Tree Construction\n",
        "tree = DecisionTreeClassifier()\n",
        "ensemble = BaggingClassifier(base_estimator=tree, n_estimators=10, random_state=42)\n",
        "ensemble.fit(X_train_features, y_train)"
      ],
      "metadata": {
        "colab": {
          "base_uri": "https://localhost:8080/",
          "height": 195
        },
        "id": "GhawREjM5Q2T",
        "outputId": "86f90a55-9d2e-4764-e2fc-86993fec0d8b"
      },
      "execution_count": 69,
      "outputs": [
        {
          "output_type": "stream",
          "name": "stderr",
          "text": [
            "/usr/local/lib/python3.10/dist-packages/sklearn/ensemble/_base.py:166: FutureWarning: `base_estimator` was renamed to `estimator` in version 1.2 and will be removed in 1.4.\n",
            "  warnings.warn(\n"
          ]
        },
        {
          "output_type": "execute_result",
          "data": {
            "text/plain": [
              "BaggingClassifier(base_estimator=DecisionTreeClassifier(), random_state=42)"
            ],
            "text/html": [
              "<style>#sk-container-id-1 {color: black;background-color: white;}#sk-container-id-1 pre{padding: 0;}#sk-container-id-1 div.sk-toggleable {background-color: white;}#sk-container-id-1 label.sk-toggleable__label {cursor: pointer;display: block;width: 100%;margin-bottom: 0;padding: 0.3em;box-sizing: border-box;text-align: center;}#sk-container-id-1 label.sk-toggleable__label-arrow:before {content: \"▸\";float: left;margin-right: 0.25em;color: #696969;}#sk-container-id-1 label.sk-toggleable__label-arrow:hover:before {color: black;}#sk-container-id-1 div.sk-estimator:hover label.sk-toggleable__label-arrow:before {color: black;}#sk-container-id-1 div.sk-toggleable__content {max-height: 0;max-width: 0;overflow: hidden;text-align: left;background-color: #f0f8ff;}#sk-container-id-1 div.sk-toggleable__content pre {margin: 0.2em;color: black;border-radius: 0.25em;background-color: #f0f8ff;}#sk-container-id-1 input.sk-toggleable__control:checked~div.sk-toggleable__content {max-height: 200px;max-width: 100%;overflow: auto;}#sk-container-id-1 input.sk-toggleable__control:checked~label.sk-toggleable__label-arrow:before {content: \"▾\";}#sk-container-id-1 div.sk-estimator input.sk-toggleable__control:checked~label.sk-toggleable__label {background-color: #d4ebff;}#sk-container-id-1 div.sk-label input.sk-toggleable__control:checked~label.sk-toggleable__label {background-color: #d4ebff;}#sk-container-id-1 input.sk-hidden--visually {border: 0;clip: rect(1px 1px 1px 1px);clip: rect(1px, 1px, 1px, 1px);height: 1px;margin: -1px;overflow: hidden;padding: 0;position: absolute;width: 1px;}#sk-container-id-1 div.sk-estimator {font-family: monospace;background-color: #f0f8ff;border: 1px dotted black;border-radius: 0.25em;box-sizing: border-box;margin-bottom: 0.5em;}#sk-container-id-1 div.sk-estimator:hover {background-color: #d4ebff;}#sk-container-id-1 div.sk-parallel-item::after {content: \"\";width: 100%;border-bottom: 1px solid gray;flex-grow: 1;}#sk-container-id-1 div.sk-label:hover label.sk-toggleable__label {background-color: #d4ebff;}#sk-container-id-1 div.sk-serial::before {content: \"\";position: absolute;border-left: 1px solid gray;box-sizing: border-box;top: 0;bottom: 0;left: 50%;z-index: 0;}#sk-container-id-1 div.sk-serial {display: flex;flex-direction: column;align-items: center;background-color: white;padding-right: 0.2em;padding-left: 0.2em;position: relative;}#sk-container-id-1 div.sk-item {position: relative;z-index: 1;}#sk-container-id-1 div.sk-parallel {display: flex;align-items: stretch;justify-content: center;background-color: white;position: relative;}#sk-container-id-1 div.sk-item::before, #sk-container-id-1 div.sk-parallel-item::before {content: \"\";position: absolute;border-left: 1px solid gray;box-sizing: border-box;top: 0;bottom: 0;left: 50%;z-index: -1;}#sk-container-id-1 div.sk-parallel-item {display: flex;flex-direction: column;z-index: 1;position: relative;background-color: white;}#sk-container-id-1 div.sk-parallel-item:first-child::after {align-self: flex-end;width: 50%;}#sk-container-id-1 div.sk-parallel-item:last-child::after {align-self: flex-start;width: 50%;}#sk-container-id-1 div.sk-parallel-item:only-child::after {width: 0;}#sk-container-id-1 div.sk-dashed-wrapped {border: 1px dashed gray;margin: 0 0.4em 0.5em 0.4em;box-sizing: border-box;padding-bottom: 0.4em;background-color: white;}#sk-container-id-1 div.sk-label label {font-family: monospace;font-weight: bold;display: inline-block;line-height: 1.2em;}#sk-container-id-1 div.sk-label-container {text-align: center;}#sk-container-id-1 div.sk-container {/* jupyter's `normalize.less` sets `[hidden] { display: none; }` but bootstrap.min.css set `[hidden] { display: none !important; }` so we also need the `!important` here to be able to override the default hidden behavior on the sphinx rendered scikit-learn.org. See: https://github.com/scikit-learn/scikit-learn/issues/21755 */display: inline-block !important;position: relative;}#sk-container-id-1 div.sk-text-repr-fallback {display: none;}</style><div id=\"sk-container-id-1\" class=\"sk-top-container\"><div class=\"sk-text-repr-fallback\"><pre>BaggingClassifier(base_estimator=DecisionTreeClassifier(), random_state=42)</pre><b>In a Jupyter environment, please rerun this cell to show the HTML representation or trust the notebook. <br />On GitHub, the HTML representation is unable to render, please try loading this page with nbviewer.org.</b></div><div class=\"sk-container\" hidden><div class=\"sk-item sk-dashed-wrapped\"><div class=\"sk-label-container\"><div class=\"sk-label sk-toggleable\"><input class=\"sk-toggleable__control sk-hidden--visually\" id=\"sk-estimator-id-1\" type=\"checkbox\" ><label for=\"sk-estimator-id-1\" class=\"sk-toggleable__label sk-toggleable__label-arrow\">BaggingClassifier</label><div class=\"sk-toggleable__content\"><pre>BaggingClassifier(base_estimator=DecisionTreeClassifier(), random_state=42)</pre></div></div></div><div class=\"sk-parallel\"><div class=\"sk-parallel-item\"><div class=\"sk-item\"><div class=\"sk-label-container\"><div class=\"sk-label sk-toggleable\"><input class=\"sk-toggleable__control sk-hidden--visually\" id=\"sk-estimator-id-2\" type=\"checkbox\" ><label for=\"sk-estimator-id-2\" class=\"sk-toggleable__label sk-toggleable__label-arrow\">base_estimator: DecisionTreeClassifier</label><div class=\"sk-toggleable__content\"><pre>DecisionTreeClassifier()</pre></div></div></div><div class=\"sk-serial\"><div class=\"sk-item\"><div class=\"sk-estimator sk-toggleable\"><input class=\"sk-toggleable__control sk-hidden--visually\" id=\"sk-estimator-id-3\" type=\"checkbox\" ><label for=\"sk-estimator-id-3\" class=\"sk-toggleable__label sk-toggleable__label-arrow\">DecisionTreeClassifier</label><div class=\"sk-toggleable__content\"><pre>DecisionTreeClassifier()</pre></div></div></div></div></div></div></div></div></div></div>"
            ]
          },
          "metadata": {},
          "execution_count": 69
        }
      ]
    },
    {
      "cell_type": "code",
      "source": [
        "# Step 5: Ensemble Learning (No additional code required)\n",
        "\n",
        "# Step 6: Model Evaluation\n",
        "y_pred = ensemble.predict(x_test_features)\n",
        "accuracy = accuracy_score(y_test, y_pred)\n",
        "print(\"Accuracy:\", accuracy)"
      ],
      "metadata": {
        "colab": {
          "base_uri": "https://localhost:8080/"
        },
        "id": "rWZlos5pzHvu",
        "outputId": "da586d3b-7543-44c2-c9a3-eb59fc569cc3"
      },
      "execution_count": 70,
      "outputs": [
        {
          "output_type": "stream",
          "name": "stdout",
          "text": [
            "Accuracy: 0.9996857442148367\n"
          ]
        }
      ]
    },
    {
      "cell_type": "code",
      "source": [],
      "metadata": {
        "id": "pt3o23SO6Lz6"
      },
      "execution_count": null,
      "outputs": []
    },
    {
      "cell_type": "code",
      "source": [
        "epochs = list(range(10))\n",
        "acc = history.history['accuracy']\n",
        "val_acc = history.history['val_accuracy']\n",
        "\n",
        "plt.plot(epochs, acc, label='train accuracy')\n",
        "plt.plot(epochs, val_acc, label='val accuracy')\n",
        "plt.xlabel('epochs')\n",
        "plt.ylabel('accuracy')\n",
        "plt.legend()\n",
        "plt.show()"
      ],
      "metadata": {
        "colab": {
          "base_uri": "https://localhost:8080/",
          "height": 449
        },
        "id": "_yYejYIRsbhh",
        "outputId": "b9d2b6de-73ca-4e71-8636-8d613c014f6b"
      },
      "execution_count": 73,
      "outputs": [
        {
          "output_type": "display_data",
          "data": {
            "text/plain": [
              "<Figure size 640x480 with 1 Axes>"
            ],
            "image/png": "[encoded data removed]"
          },
          "metadata": {}
        }
      ]
    },
    {
      "cell_type": "code",
      "source": [
        "loss = history.history['loss']\n",
        "val_loss = history.history['val_loss']\n",
        "\n",
        "plt.plot(epochs, loss, label='train loss')\n",
        "plt.plot(epochs, val_loss, label='val loss')\n",
        "plt.xlabel('epochs')\n",
        "plt.ylabel('loss')\n",
        "plt.legend()\n",
        "plt.show()"
      ],
      "metadata": {
        "colab": {
          "base_uri": "https://localhost:8080/",
          "height": 449
        },
        "id": "c6ZYo__inCi-",
        "outputId": "10c6f212-9068-4c99-db14-f4b9554a35d7"
      },
      "execution_count": 74,
      "outputs": [
        {
          "output_type": "display_data",
          "data": {
            "text/plain": [
              "<Figure size 640x480 with 1 Axes>"
            ],
            "image/png": "[encoded data removed]"
          },
          "metadata": {}
        }
      ]
    },
    {
      "cell_type": "code",
      "source": [],
      "metadata": {
        "id": "gPjLWTsK8FHr"
      },
      "execution_count": null,
      "outputs": []
    },
    {
      "cell_type": "code",
      "source": [
        "accuracy_score(y_test, y_pred)"
      ],
      "metadata": {
        "id": "gqQzj1YD3ZhI",
        "colab": {
          "base_uri": "https://localhost:8080/"
        },
        "outputId": "1de30ab7-4088-46be-b2cd-574c564b95fb"
      },
      "execution_count": 76,
      "outputs": [
        {
          "output_type": "execute_result",
          "data": {
            "text/plain": [
              "0.9996857442148367"
            ]
          },
          "metadata": {},
          "execution_count": 76
        }
      ]
    },
    {
      "cell_type": "code",
      "source": [
        "from sklearn import metrics"
      ],
      "metadata": {
        "id": "UnHtaca3TDJt"
      },
      "execution_count": 77,
      "outputs": []
    },
    {
      "cell_type": "code",
      "source": [
        "macro_averaged_precision = metrics.precision_score(y_test, y_pred, average = 'macro')\n",
        "print(f\"Macro-Averaged Precision score using sklearn library : {macro_averaged_precision}\")"
      ],
      "metadata": {
        "id": "CHpIUKx94HzF",
        "colab": {
          "base_uri": "https://localhost:8080/"
        },
        "outputId": "70d8e606-8327-47b9-e5b1-164da26052a8"
      },
      "execution_count": 80,
      "outputs": [
        {
          "output_type": "stream",
          "name": "stdout",
          "text": [
            "Macro-Averaged Precision score using sklearn library : 0.9996610203894543\n"
          ]
        }
      ]
    },
    {
      "cell_type": "code",
      "source": [
        "macro_averaged_recall = metrics.recall_score(y_test, y_pred, average = 'macro')\n",
        "print(f\"Macro-averaged recall score using sklearn : {macro_averaged_recall}\")"
      ],
      "metadata": {
        "id": "bKYKy9YT4Sg_",
        "colab": {
          "base_uri": "https://localhost:8080/"
        },
        "outputId": "e34f475d-3572-408c-ebcb-62a347583762"
      },
      "execution_count": 81,
      "outputs": [
        {
          "output_type": "stream",
          "name": "stdout",
          "text": [
            "Macro-averaged recall score using sklearn : 0.9996937561711238\n"
          ]
        }
      ]
    },
    {
      "cell_type": "code",
      "source": [
        "macro_averaged_f1 = metrics.f1_score(y_test, y_pred, average = 'macro')\n",
        "print(f\"Macro-Averaged F1 score using sklearn library : {macro_averaged_f1}\")"
      ],
      "metadata": {
        "id": "JARe4iad4Zsn",
        "colab": {
          "base_uri": "https://localhost:8080/"
        },
        "outputId": "31b54cf5-9960-4b7c-8b9f-b4cc66f74750"
      },
      "execution_count": 82,
      "outputs": [
        {
          "output_type": "stream",
          "name": "stdout",
          "text": [
            "Macro-Averaged F1 score using sklearn library : 0.9996773826878403\n"
          ]
        }
      ]
    },
    {
      "cell_type": "code",
      "source": [
        "!pip install scikit-plot"
      ],
      "metadata": {
        "colab": {
          "base_uri": "https://localhost:8080/"
        },
        "id": "IguqGaURHdMl",
        "outputId": "1d0a75cc-2888-4a58-ffbd-78a410504032"
      },
      "execution_count": 83,
      "outputs": [
        {
          "output_type": "stream",
          "name": "stdout",
          "text": [
            "Looking in indexes: https://pypi.org/simple, https://us-python.pkg.dev/colab-wheels/public/simple/\n",
            "Collecting scikit-plot\n",
            "  Downloading scikit_plot-0.3.7-py3-none-any.whl (33 kB)\n",
            "Requirement already satisfied: matplotlib>=1.4.0 in /usr/local/lib/python3.10/dist-packages (from scikit-plot) (3.7.1)\n",
            "Requirement already satisfied: scikit-learn>=0.18 in /usr/local/lib/python3.10/dist-packages (from scikit-plot) (1.2.2)\n",
            "Requirement already satisfied: scipy>=0.9 in /usr/local/lib/python3.10/dist-packages (from scikit-plot) (1.10.1)\n",
            "Requirement already satisfied: joblib>=0.10 in /usr/local/lib/python3.10/dist-packages (from scikit-plot) (1.2.0)\n",
            "Requirement already satisfied: contourpy>=1.0.1 in /usr/local/lib/python3.10/dist-packages (from matplotlib>=1.4.0->scikit-plot) (1.0.7)\n",
            "Requirement already satisfied: cycler>=0.10 in /usr/local/lib/python3.10/dist-packages (from matplotlib>=1.4.0->scikit-plot) (0.11.0)\n",
            "Requirement already satisfied: fonttools>=4.22.0 in /usr/local/lib/python3.10/dist-packages (from matplotlib>=1.4.0->scikit-plot) (4.39.3)\n",
            "Requirement already satisfied: kiwisolver>=1.0.1 in /usr/local/lib/python3.10/dist-packages (from matplotlib>=1.4.0->scikit-plot) (1.4.4)\n",
            "Requirement already satisfied: numpy>=1.20 in /usr/local/lib/python3.10/dist-packages (from matplotlib>=1.4.0->scikit-plot) (1.22.4)\n",
            "Requirement already satisfied: packaging>=20.0 in /usr/local/lib/python3.10/dist-packages (from matplotlib>=1.4.0->scikit-plot) (23.1)\n",
            "Requirement already satisfied: pillow>=6.2.0 in /usr/local/lib/python3.10/dist-packages (from matplotlib>=1.4.0->scikit-plot) (8.4.0)\n",
            "Requirement already satisfied: pyparsing>=2.3.1 in /usr/local/lib/python3.10/dist-packages (from matplotlib>=1.4.0->scikit-plot) (3.0.9)\n",
            "Requirement already satisfied: python-dateutil>=2.7 in /usr/local/lib/python3.10/dist-packages (from matplotlib>=1.4.0->scikit-plot) (2.8.2)\n",
            "Requirement already satisfied: threadpoolctl>=2.0.0 in /usr/local/lib/python3.10/dist-packages (from scikit-learn>=0.18->scikit-plot) (3.1.0)\n",
            "Requirement already satisfied: six>=1.5 in /usr/local/lib/python3.10/dist-packages (from python-dateutil>=2.7->matplotlib>=1.4.0->scikit-plot) (1.16.0)\n",
            "Installing collected packages: scikit-plot\n",
            "Successfully installed scikit-plot-0.3.7\n"
          ]
        }
      ]
    },
    {
      "cell_type": "code",
      "source": [
        "import scikitplot as skplt"
      ],
      "metadata": {
        "id": "u1_ndvQfHLqx"
      },
      "execution_count": 84,
      "outputs": []
    },
    {
      "cell_type": "code",
      "source": [
        "\n",
        "from sklearn.metrics import classification_report, confusion_matrix,ConfusionMatrixDisplay\n",
        "skplt.metrics.plot_confusion_matrix(y_test,y_pred,normalize=True,x_tick_rotation=90,figsize=(10,10),cmap='Blues')\n",
        "\n",
        "\n"
      ],
      "metadata": {
        "colab": {
          "base_uri": "https://localhost:8080/",
          "height": 820
        },
        "id": "sFcWIv_gGIAt",
        "outputId": "88ed5633-c876-4e7f-c7cb-c7cd9d91d04f"
      },
      "execution_count": 85,
      "outputs": [
        {
          "output_type": "execute_result",
          "data": {
            "text/plain": [
              "<Axes: title={'center': 'Normalized Confusion Matrix'}, xlabel='Predicted label', ylabel='True label'>"
            ]
          },
          "metadata": {},
          "execution_count": 85
        },
        {
          "output_type": "display_data",
          "data": {
            "text/plain": [
              "<Figure size 1000x1000 with 2 Axes>"
            ],
            "image/png": "[encoded data removed]"
          },
          "metadata": {}
        }
      ]
    }
  ],
  "metadata": {
    "colab": {
      "provenance": []
    },
    "kernelspec": {
      "display_name": "Python 3",
      "name": "python3"
    },
    "language_info": {
      "name": "python"
    }
  },
  "nbformat": 4,
  "nbformat_minor": 0
}